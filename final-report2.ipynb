{
 "cells": [
  {
   "cell_type": "code",
   "execution_count": 26,
   "id": "initial_id",
   "metadata": {
    "collapsed": true,
    "ExecuteTime": {
     "end_time": "2024-04-23T10:06:26.900211Z",
     "start_time": "2024-04-23T10:06:26.885073Z"
    }
   },
   "outputs": [],
   "source": [
    "import numpy as np\n",
    "import pandas as pd\n",
    "import sympy\n",
    "import funcs as fs\n",
    "from grad_desc import *\n",
    "from newton import *\n",
    "from nelder import *\n",
    "\n",
    "from newton import calculate_next_point_classic\n",
    "import utils as u\n",
    "from typing_local import *"
   ]
  },
  {
   "cell_type": "code",
   "outputs": [],
   "source": [
    "%load_ext autoreload\n",
    "%autoreload 2"
   ],
   "metadata": {
    "collapsed": false,
    "ExecuteTime": {
     "end_time": "2024-04-23T09:56:20.317283Z",
     "start_time": "2024-04-23T09:56:20.306443Z"
    }
   },
   "id": "5400bdfe7963eca0",
   "execution_count": 2
  },
  {
   "cell_type": "code",
   "outputs": [],
   "source": [
    "x, y = sympy.symbols('x y')"
   ],
   "metadata": {
    "collapsed": false,
    "ExecuteTime": {
     "end_time": "2024-04-23T09:56:20.328983Z",
     "start_time": "2024-04-23T09:56:20.317698Z"
    }
   },
   "id": "9097ae97220b3691",
   "execution_count": 3
  },
  {
   "cell_type": "code",
   "outputs": [],
   "source": [
    "funcs = [\n",
    "    x ** 2 + y ** 2,\n",
    "    2 * (y - x ** 2) ** 2 + (1 - x) ** 2,\n",
    "    # y + sympy.log(x ** 2 + y ** 2),\n",
    "]"
   ],
   "metadata": {
    "collapsed": false,
    "ExecuteTime": {
     "end_time": "2024-04-23T11:15:33.433534Z",
     "start_time": "2024-04-23T11:15:33.418150Z"
    }
   },
   "id": "91e3a5a1a0467190",
   "execution_count": 34
  },
  {
   "cell_type": "code",
   "outputs": [],
   "source": [
    "def gradient_descent_constant_rate_001(func, start_point):\n",
    "    return gradient_descend(\n",
    "        fs.lambdify(func),\n",
    "        jac=fs.jacobi(func),\n",
    "        start=start_point,\n",
    "        learning_rate_function=constant_rate(0.001),\n",
    "        max_iter=1000,\n",
    "        stop_point_delta=1e-10,\n",
    "        stop_function_delta=1e-10\n",
    "    )\n",
    "\n",
    "\n",
    "def gradient_descent_constant_rate_0001(func, start_point):\n",
    "    return gradient_descend(\n",
    "        fs.lambdify(func),\n",
    "        jac=fs.jacobi(func),\n",
    "        start=start_point,\n",
    "        learning_rate_function=constant_rate(0.0001),\n",
    "        max_iter=1000,\n",
    "        stop_point_delta=1e-10,\n",
    "        stop_function_delta=1e-10\n",
    "    )\n",
    "\n",
    "\n",
    "def scipy_nelder_mead_(func, start_point):\n",
    "    return scipy_nelder_mead(\n",
    "        fs.lambdify(func),\n",
    "        x0=start_point,\n",
    "        max_iterations=1000,\n",
    "    )\n",
    "\n",
    "\n",
    "def newton_descent_classic_next_point_01(func, start_point):\n",
    "    return newton_descend(\n",
    "        fs.lambdify(func),\n",
    "        calculate_next_point_func=calculate_next_point_classic,\n",
    "        learning_rate_function=constant_rate(0.01),\n",
    "        jac=fs.jacobi(func),\n",
    "        hess=fs.hessian(func),\n",
    "        start=start_point,\n",
    "        max_iter=1000,\n",
    "        stop_point_delta=1e-10,\n",
    "        stop_function_delta=1e-10\n",
    "    )\n",
    "\n",
    "\n",
    "def newton_descent_classic_next_point_03(func, start_point):\n",
    "    return newton_descend(\n",
    "        fs.lambdify(func),\n",
    "        calculate_next_point_func=calculate_next_point_classic,\n",
    "        learning_rate_function=constant_rate(0.03),\n",
    "        jac=fs.jacobi(func),\n",
    "        hess=fs.hessian(func),\n",
    "        start=start_point,\n",
    "        max_iter=1000,\n",
    "        stop_point_delta=1e-10,\n",
    "        stop_function_delta=1e-10\n",
    "    )\n",
    "\n",
    "\n",
    "def newton_descent_linalg_next_point(func, start_point):\n",
    "    return newton_descend(\n",
    "        fs.lambdify(func),\n",
    "        calculate_next_point_func=calculate_next_point_linear_system,\n",
    "        learning_rate_function=constant_rate(0.0001),\n",
    "        jac=fs.jacobi(func),\n",
    "        hess=fs.hessian(func),\n",
    "        start=start_point,\n",
    "        max_iter=1000,\n",
    "        stop_point_delta=1e-10,\n",
    "        stop_function_delta=1e-10\n",
    "    )\n",
    "\n",
    "\n",
    "def scipy_newton_(func, start_point):\n",
    "    return scipy_newton_cg(\n",
    "        fs.lambdify(func),\n",
    "        jac=fs.jacobi(func),\n",
    "        hessian=fs.hessian(func),\n",
    "        x0=start_point,\n",
    "        max_iterations=1000,\n",
    "    )\n",
    "\n",
    "\n",
    "methods = [\n",
    "    gradient_descent_constant_rate_001,\n",
    "    gradient_descent_constant_rate_0001,\n",
    "    scipy_nelder_mead_,\n",
    "    newton_descent_classic_next_point_01,\n",
    "    newton_descent_linalg_next_point,\n",
    "    scipy_newton_,\n",
    "]"
   ],
   "metadata": {
    "collapsed": false,
    "ExecuteTime": {
     "end_time": "2024-04-23T11:15:34.166161Z",
     "start_time": "2024-04-23T11:15:34.146626Z"
    }
   },
   "id": "843d092da7783f1f",
   "execution_count": 35
  },
  {
   "cell_type": "code",
   "outputs": [],
   "source": [
    "def from_sympy_to_plotable_func(f):\n",
    "    return fs.tupled(np.vectorize(sympy.lambdify([x, y], f, 'numpy')))"
   ],
   "metadata": {
    "collapsed": false,
    "ExecuteTime": {
     "end_time": "2024-04-23T11:27:35.074736Z",
     "start_time": "2024-04-23T11:27:35.061110Z"
    }
   },
   "id": "cd1c9e20c136f635",
   "execution_count": 50
  },
  {
   "cell_type": "code",
   "outputs": [],
   "source": [
    "data = []\n",
    "\n",
    "for f in funcs:\n",
    "    for start in [(1, 1), (10, 10), (100, 100)]:\n",
    "        for method in methods:\n",
    "            record = method(f, start)\n",
    "            match record:\n",
    "                case NewtonOptimizationResult(result, iters, stop, success, path) if iters < 10 and f == funcs[0] and False:\n",
    "                    u.plot_func(from_sympy_to_plotable_func(f), path, label=str(f) + ' ' + method.__name__).show()\n",
    "                case GradientOptimizationResult(result, iters, stop, success, path) if f == funcs[1]:\n",
    "                    u.plot_func(from_sympy_to_plotable_func(f), path, label=str(f) + ' ' + method.__name__).show()\n",
    "                \n",
    "            data.append({\n",
    "                'function': str(f),\n",
    "                'start_point': str(start),\n",
    "                'method': method.__name__,\n",
    "                'success': record.success,\n",
    "                'iterations': record.iterations,\n",
    "                'result': record.result,\n",
    "                'stop_reason': record.stop_reason,\n",
    "                'path_len': len(record.path if hasattr(record, 'path') else record.simplexes),\n",
    "                'path': record.path if hasattr(record, 'path') else record.simplexes\n",
    "            })\n",
    "\n"
   ],
   "metadata": {
    "collapsed": false
   },
   "id": "8f0dedb5a926111b",
   "execution_count": null
  },
  {
   "cell_type": "code",
   "outputs": [
    {
     "data": {
      "text/plain": "                         function start_point  \\\n0                     x**2 + y**2      (1, 1)   \n1                     x**2 + y**2      (1, 1)   \n2                     x**2 + y**2      (1, 1)   \n3                     x**2 + y**2      (1, 1)   \n4                     x**2 + y**2      (1, 1)   \n5                     x**2 + y**2      (1, 1)   \n6                     x**2 + y**2    (10, 10)   \n7                     x**2 + y**2    (10, 10)   \n8                     x**2 + y**2    (10, 10)   \n9                     x**2 + y**2    (10, 10)   \n10                    x**2 + y**2    (10, 10)   \n11                    x**2 + y**2    (10, 10)   \n12                    x**2 + y**2  (100, 100)   \n13                    x**2 + y**2  (100, 100)   \n14                    x**2 + y**2  (100, 100)   \n15                    x**2 + y**2  (100, 100)   \n16                    x**2 + y**2  (100, 100)   \n17                    x**2 + y**2  (100, 100)   \n18  (1 - x)**2 + 2*(-x**2 + y)**2      (1, 1)   \n19  (1 - x)**2 + 2*(-x**2 + y)**2      (1, 1)   \n20  (1 - x)**2 + 2*(-x**2 + y)**2      (1, 1)   \n21  (1 - x)**2 + 2*(-x**2 + y)**2      (1, 1)   \n22  (1 - x)**2 + 2*(-x**2 + y)**2      (1, 1)   \n23  (1 - x)**2 + 2*(-x**2 + y)**2      (1, 1)   \n24  (1 - x)**2 + 2*(-x**2 + y)**2    (10, 10)   \n25  (1 - x)**2 + 2*(-x**2 + y)**2    (10, 10)   \n26  (1 - x)**2 + 2*(-x**2 + y)**2    (10, 10)   \n27  (1 - x)**2 + 2*(-x**2 + y)**2    (10, 10)   \n28  (1 - x)**2 + 2*(-x**2 + y)**2    (10, 10)   \n29  (1 - x)**2 + 2*(-x**2 + y)**2    (10, 10)   \n30  (1 - x)**2 + 2*(-x**2 + y)**2  (100, 100)   \n31  (1 - x)**2 + 2*(-x**2 + y)**2  (100, 100)   \n32  (1 - x)**2 + 2*(-x**2 + y)**2  (100, 100)   \n33  (1 - x)**2 + 2*(-x**2 + y)**2  (100, 100)   \n34  (1 - x)**2 + 2*(-x**2 + y)**2  (100, 100)   \n35  (1 - x)**2 + 2*(-x**2 + y)**2  (100, 100)   \n\n                                  method  success  iterations  \\\n0     gradient_descent_constant_rate_001    False        1000   \n1    gradient_descent_constant_rate_0001    False        1000   \n2                     scipy_nelder_mead_     True          54   \n3   newton_descent_classic_next_point_01     True         987   \n4       newton_descent_linalg_next_point     True           2   \n5                          scipy_newton_     True           2   \n6     gradient_descent_constant_rate_001    False        1000   \n7    gradient_descent_constant_rate_0001    False        1000   \n8                     scipy_nelder_mead_     True          61   \n9   newton_descent_classic_next_point_01    False        1000   \n10      newton_descent_linalg_next_point     True           2   \n11                         scipy_newton_     True           2   \n12    gradient_descent_constant_rate_001    False        1000   \n13   gradient_descent_constant_rate_0001    False        1000   \n14                    scipy_nelder_mead_     True          68   \n15  newton_descent_classic_next_point_01    False        1000   \n16      newton_descent_linalg_next_point     True           2   \n17                         scipy_newton_     True           2   \n18    gradient_descent_constant_rate_001     True           1   \n19   gradient_descent_constant_rate_0001     True           1   \n20                    scipy_nelder_mead_     True          36   \n21  newton_descent_classic_next_point_01     True           1   \n22      newton_descent_linalg_next_point     True           1   \n23                         scipy_newton_     True           1   \n24    gradient_descent_constant_rate_001    False        1000   \n25   gradient_descent_constant_rate_0001    False        1000   \n26                    scipy_nelder_mead_     True          85   \n27  newton_descent_classic_next_point_01    False        1000   \n28      newton_descent_linalg_next_point     True           6   \n29                         scipy_newton_     True          19   \n30    gradient_descent_constant_rate_001     True           7   \n31   gradient_descent_constant_rate_0001     True           7   \n32                    scipy_nelder_mead_     True         130   \n33  newton_descent_classic_next_point_01    False        1000   \n34      newton_descent_linalg_next_point     True           5   \n35                         scipy_newton_     True          37   \n\n                                              result  \\\n0         [0.13506452244668363, 0.13506452244668363]   \n1           [0.8187143764431012, 0.8187143764431012]   \n2   [-3.370149904276273e-07, -8.874879479484205e-08]   \n3     [4.919682409786446e-05, 4.919682409786446e-05]   \n4                                         [0.0, 0.0]   \n5                                         [0.0, 0.0]   \n6           [1.3506452244668374, 1.3506452244668374]   \n7             [8.187143764430978, 8.187143764430978]   \n8   [-1.5522813425740537e-07, 5.504061552856179e-07]   \n9     [0.0004317124741065828, 0.0004317124741065828]   \n10                                        [0.0, 0.0]   \n11                                        [0.0, 0.0]   \n12          [13.506452244668342, 13.506452244668342]   \n13            [81.87143764430981, 81.87143764430981]   \n14  [2.8917680046832773e-07, -9.969827698185279e-08]   \n15        [0.00431712474106582, 0.00431712474106582]   \n16                                        [0.0, 0.0]   \n17                                        [0.0, 0.0]   \n18                                        [1.0, 1.0]   \n19                                        [1.0, 1.0]   \n20                                        [1.0, 1.0]   \n21                                        [1.0, 1.0]   \n22                                        [1.0, 1.0]   \n23                                        [1.0, 1.0]   \n24           [3.0765923062359497, 9.629838787663298]   \n25          [3.2128815289928707, 10.490740134542973]   \n26          [0.9999999665029555, 1.0000001714363922]   \n27           [1.1757440971698647, 1.374143086545702]   \n28                                        [1.0, 1.0]   \n29          [0.9999999991096704, 0.9999999983770089]   \n30                                        [nan, nan]   \n31                                       [nan, -inf]   \n32          [0.9999999792758472, 0.9999996601144927]   \n33            [73.39339854631737, 5385.192453766685]   \n34                                        [1.0, 1.0]   \n35           [0.999999997309634, 0.9999999942004566]   \n\n                              stop_reason  path_len  \\\n0                   StopReason.ITERATIONS      1001   \n1                   StopReason.ITERATIONS      1001   \n2   Optimization terminated successfully.        54   \n3               StopReason.FUNCTION_DELTA       988   \n4               StopReason.FUNCTION_DELTA         3   \n5   Optimization terminated successfully.         0   \n6                   StopReason.ITERATIONS      1001   \n7                   StopReason.ITERATIONS      1001   \n8   Optimization terminated successfully.        61   \n9                   StopReason.ITERATIONS      1001   \n10              StopReason.FUNCTION_DELTA         3   \n11  Optimization terminated successfully.         0   \n12                  StopReason.ITERATIONS      1001   \n13                  StopReason.ITERATIONS      1001   \n14  Optimization terminated successfully.        68   \n15                  StopReason.ITERATIONS      1001   \n16              StopReason.FUNCTION_DELTA         3   \n17  Optimization terminated successfully.         0   \n18              StopReason.FUNCTION_DELTA         2   \n19              StopReason.FUNCTION_DELTA         2   \n20  Optimization terminated successfully.        36   \n21              StopReason.FUNCTION_DELTA         2   \n22              StopReason.FUNCTION_DELTA         2   \n23  Optimization terminated successfully.         0   \n24                  StopReason.ITERATIONS      1001   \n25                  StopReason.ITERATIONS      1001   \n26  Optimization terminated successfully.        85   \n27                  StopReason.ITERATIONS      1001   \n28              StopReason.FUNCTION_DELTA         7   \n29  Optimization terminated successfully.         0   \n30                         StopReason.NAN         8   \n31                         StopReason.NAN         8   \n32  Optimization terminated successfully.       130   \n33                  StopReason.ITERATIONS      1001   \n34              StopReason.FUNCTION_DELTA         6   \n35  Optimization terminated successfully.         0   \n\n                                                 path  \n0   [[1.0, 1.0], [0.998, 0.998], [0.996004, 0.9960...  \n1   [[1.0, 1.0], [0.9998, 0.9998], [0.99960004, 0....  \n2   [[[1.0, 1.0], [1.0499999999999998, 0.95], [0.9...  \n3   [[1.0, 1.0], [0.99, 0.99], [0.9801, 0.9801], [...  \n4                [[1.0, 1.0], [0.0, 0.0], [0.0, 0.0]]  \n5                                                  []  \n6   [[10.0, 10.0], [9.98, 9.98], [9.96004000000000...  \n7   [[10.0, 10.0], [9.998, 9.998], [9.9960004, 9.9...  \n8   [[[10.0, 10.0], [10.5, 9.5], [9.75, 9.25]], [[...  \n9   [[10.0, 10.0], [9.9, 9.9], [9.801, 9.801], [9....  \n10             [[10.0, 10.0], [0.0, 0.0], [0.0, 0.0]]  \n11                                                 []  \n12  [[100.0, 100.0], [99.8, 99.8], [99.6004, 99.60...  \n13  [[100.0, 100.0], [99.98, 99.98], [99.960004, 9...  \n14  [[[100.0, 100.0], [105.0, 95.0], [97.5, 92.5]]...  \n15  [[100.0, 100.0], [99.0, 99.0], [98.01, 98.01],...  \n16           [[100.0, 100.0], [0.0, 0.0], [0.0, 0.0]]  \n17                                                 []  \n18                           [[1.0, 1.0], [1.0, 1.0]]  \n19                           [[1.0, 1.0], [1.0, 1.0]]  \n20  [[[1.0, 1.0], [1.025, 1.0125], [1.00625, 1.028...  \n21                           [[1.0, 1.0], [1.0, 1.0]]  \n22                           [[1.0, 1.0], [1.0, 1.0]]  \n23                                                 []  \n24  [[10.0, 10.0], [2.782, 10.36], [2.836757313856...  \n25  [[10.0, 10.0], [9.2782, 10.036], [8.7120661298...  \n26  [[[9.0, 10.75], [10.0, 10.5], [8.5, 11.875]], ...  \n27  [[10.0, 10.0], [9.999750692520776, 10.89501385...  \n28  [[10.0, 10.0], [9.975069252077562, 99.50138504...  \n29                                                 []  \n30  [[100.0, 100.0], [-7820.198, 139.6], [38259682...  \n31  [[100.0, 100.0], [-692.0198, 103.96], [264372....  \n32  [[[90.0, 107.5], [100.0, 105.0], [85.0, 118.75...  \n33  [[100.0, 100.0], [99.9999750006313, 198.995000...  \n34  [[100.0, 100.0], [99.99750006312972, 9999.5000...  \n35                                                 []  ",
      "text/html": "<div>\n<style scoped>\n    .dataframe tbody tr th:only-of-type {\n        vertical-align: middle;\n    }\n\n    .dataframe tbody tr th {\n        vertical-align: top;\n    }\n\n    .dataframe thead th {\n        text-align: right;\n    }\n</style>\n<table border=\"1\" class=\"dataframe\">\n  <thead>\n    <tr style=\"text-align: right;\">\n      <th></th>\n      <th>function</th>\n      <th>start_point</th>\n      <th>method</th>\n      <th>success</th>\n      <th>iterations</th>\n      <th>result</th>\n      <th>stop_reason</th>\n      <th>path_len</th>\n      <th>path</th>\n    </tr>\n  </thead>\n  <tbody>\n    <tr>\n      <th>0</th>\n      <td>x**2 + y**2</td>\n      <td>(1, 1)</td>\n      <td>gradient_descent_constant_rate_001</td>\n      <td>False</td>\n      <td>1000</td>\n      <td>[0.13506452244668363, 0.13506452244668363]</td>\n      <td>StopReason.ITERATIONS</td>\n      <td>1001</td>\n      <td>[[1.0, 1.0], [0.998, 0.998], [0.996004, 0.9960...</td>\n    </tr>\n    <tr>\n      <th>1</th>\n      <td>x**2 + y**2</td>\n      <td>(1, 1)</td>\n      <td>gradient_descent_constant_rate_0001</td>\n      <td>False</td>\n      <td>1000</td>\n      <td>[0.8187143764431012, 0.8187143764431012]</td>\n      <td>StopReason.ITERATIONS</td>\n      <td>1001</td>\n      <td>[[1.0, 1.0], [0.9998, 0.9998], [0.99960004, 0....</td>\n    </tr>\n    <tr>\n      <th>2</th>\n      <td>x**2 + y**2</td>\n      <td>(1, 1)</td>\n      <td>scipy_nelder_mead_</td>\n      <td>True</td>\n      <td>54</td>\n      <td>[-3.370149904276273e-07, -8.874879479484205e-08]</td>\n      <td>Optimization terminated successfully.</td>\n      <td>54</td>\n      <td>[[[1.0, 1.0], [1.0499999999999998, 0.95], [0.9...</td>\n    </tr>\n    <tr>\n      <th>3</th>\n      <td>x**2 + y**2</td>\n      <td>(1, 1)</td>\n      <td>newton_descent_classic_next_point_01</td>\n      <td>True</td>\n      <td>987</td>\n      <td>[4.919682409786446e-05, 4.919682409786446e-05]</td>\n      <td>StopReason.FUNCTION_DELTA</td>\n      <td>988</td>\n      <td>[[1.0, 1.0], [0.99, 0.99], [0.9801, 0.9801], [...</td>\n    </tr>\n    <tr>\n      <th>4</th>\n      <td>x**2 + y**2</td>\n      <td>(1, 1)</td>\n      <td>newton_descent_linalg_next_point</td>\n      <td>True</td>\n      <td>2</td>\n      <td>[0.0, 0.0]</td>\n      <td>StopReason.FUNCTION_DELTA</td>\n      <td>3</td>\n      <td>[[1.0, 1.0], [0.0, 0.0], [0.0, 0.0]]</td>\n    </tr>\n    <tr>\n      <th>5</th>\n      <td>x**2 + y**2</td>\n      <td>(1, 1)</td>\n      <td>scipy_newton_</td>\n      <td>True</td>\n      <td>2</td>\n      <td>[0.0, 0.0]</td>\n      <td>Optimization terminated successfully.</td>\n      <td>0</td>\n      <td>[]</td>\n    </tr>\n    <tr>\n      <th>6</th>\n      <td>x**2 + y**2</td>\n      <td>(10, 10)</td>\n      <td>gradient_descent_constant_rate_001</td>\n      <td>False</td>\n      <td>1000</td>\n      <td>[1.3506452244668374, 1.3506452244668374]</td>\n      <td>StopReason.ITERATIONS</td>\n      <td>1001</td>\n      <td>[[10.0, 10.0], [9.98, 9.98], [9.96004000000000...</td>\n    </tr>\n    <tr>\n      <th>7</th>\n      <td>x**2 + y**2</td>\n      <td>(10, 10)</td>\n      <td>gradient_descent_constant_rate_0001</td>\n      <td>False</td>\n      <td>1000</td>\n      <td>[8.187143764430978, 8.187143764430978]</td>\n      <td>StopReason.ITERATIONS</td>\n      <td>1001</td>\n      <td>[[10.0, 10.0], [9.998, 9.998], [9.9960004, 9.9...</td>\n    </tr>\n    <tr>\n      <th>8</th>\n      <td>x**2 + y**2</td>\n      <td>(10, 10)</td>\n      <td>scipy_nelder_mead_</td>\n      <td>True</td>\n      <td>61</td>\n      <td>[-1.5522813425740537e-07, 5.504061552856179e-07]</td>\n      <td>Optimization terminated successfully.</td>\n      <td>61</td>\n      <td>[[[10.0, 10.0], [10.5, 9.5], [9.75, 9.25]], [[...</td>\n    </tr>\n    <tr>\n      <th>9</th>\n      <td>x**2 + y**2</td>\n      <td>(10, 10)</td>\n      <td>newton_descent_classic_next_point_01</td>\n      <td>False</td>\n      <td>1000</td>\n      <td>[0.0004317124741065828, 0.0004317124741065828]</td>\n      <td>StopReason.ITERATIONS</td>\n      <td>1001</td>\n      <td>[[10.0, 10.0], [9.9, 9.9], [9.801, 9.801], [9....</td>\n    </tr>\n    <tr>\n      <th>10</th>\n      <td>x**2 + y**2</td>\n      <td>(10, 10)</td>\n      <td>newton_descent_linalg_next_point</td>\n      <td>True</td>\n      <td>2</td>\n      <td>[0.0, 0.0]</td>\n      <td>StopReason.FUNCTION_DELTA</td>\n      <td>3</td>\n      <td>[[10.0, 10.0], [0.0, 0.0], [0.0, 0.0]]</td>\n    </tr>\n    <tr>\n      <th>11</th>\n      <td>x**2 + y**2</td>\n      <td>(10, 10)</td>\n      <td>scipy_newton_</td>\n      <td>True</td>\n      <td>2</td>\n      <td>[0.0, 0.0]</td>\n      <td>Optimization terminated successfully.</td>\n      <td>0</td>\n      <td>[]</td>\n    </tr>\n    <tr>\n      <th>12</th>\n      <td>x**2 + y**2</td>\n      <td>(100, 100)</td>\n      <td>gradient_descent_constant_rate_001</td>\n      <td>False</td>\n      <td>1000</td>\n      <td>[13.506452244668342, 13.506452244668342]</td>\n      <td>StopReason.ITERATIONS</td>\n      <td>1001</td>\n      <td>[[100.0, 100.0], [99.8, 99.8], [99.6004, 99.60...</td>\n    </tr>\n    <tr>\n      <th>13</th>\n      <td>x**2 + y**2</td>\n      <td>(100, 100)</td>\n      <td>gradient_descent_constant_rate_0001</td>\n      <td>False</td>\n      <td>1000</td>\n      <td>[81.87143764430981, 81.87143764430981]</td>\n      <td>StopReason.ITERATIONS</td>\n      <td>1001</td>\n      <td>[[100.0, 100.0], [99.98, 99.98], [99.960004, 9...</td>\n    </tr>\n    <tr>\n      <th>14</th>\n      <td>x**2 + y**2</td>\n      <td>(100, 100)</td>\n      <td>scipy_nelder_mead_</td>\n      <td>True</td>\n      <td>68</td>\n      <td>[2.8917680046832773e-07, -9.969827698185279e-08]</td>\n      <td>Optimization terminated successfully.</td>\n      <td>68</td>\n      <td>[[[100.0, 100.0], [105.0, 95.0], [97.5, 92.5]]...</td>\n    </tr>\n    <tr>\n      <th>15</th>\n      <td>x**2 + y**2</td>\n      <td>(100, 100)</td>\n      <td>newton_descent_classic_next_point_01</td>\n      <td>False</td>\n      <td>1000</td>\n      <td>[0.00431712474106582, 0.00431712474106582]</td>\n      <td>StopReason.ITERATIONS</td>\n      <td>1001</td>\n      <td>[[100.0, 100.0], [99.0, 99.0], [98.01, 98.01],...</td>\n    </tr>\n    <tr>\n      <th>16</th>\n      <td>x**2 + y**2</td>\n      <td>(100, 100)</td>\n      <td>newton_descent_linalg_next_point</td>\n      <td>True</td>\n      <td>2</td>\n      <td>[0.0, 0.0]</td>\n      <td>StopReason.FUNCTION_DELTA</td>\n      <td>3</td>\n      <td>[[100.0, 100.0], [0.0, 0.0], [0.0, 0.0]]</td>\n    </tr>\n    <tr>\n      <th>17</th>\n      <td>x**2 + y**2</td>\n      <td>(100, 100)</td>\n      <td>scipy_newton_</td>\n      <td>True</td>\n      <td>2</td>\n      <td>[0.0, 0.0]</td>\n      <td>Optimization terminated successfully.</td>\n      <td>0</td>\n      <td>[]</td>\n    </tr>\n    <tr>\n      <th>18</th>\n      <td>(1 - x)**2 + 2*(-x**2 + y)**2</td>\n      <td>(1, 1)</td>\n      <td>gradient_descent_constant_rate_001</td>\n      <td>True</td>\n      <td>1</td>\n      <td>[1.0, 1.0]</td>\n      <td>StopReason.FUNCTION_DELTA</td>\n      <td>2</td>\n      <td>[[1.0, 1.0], [1.0, 1.0]]</td>\n    </tr>\n    <tr>\n      <th>19</th>\n      <td>(1 - x)**2 + 2*(-x**2 + y)**2</td>\n      <td>(1, 1)</td>\n      <td>gradient_descent_constant_rate_0001</td>\n      <td>True</td>\n      <td>1</td>\n      <td>[1.0, 1.0]</td>\n      <td>StopReason.FUNCTION_DELTA</td>\n      <td>2</td>\n      <td>[[1.0, 1.0], [1.0, 1.0]]</td>\n    </tr>\n    <tr>\n      <th>20</th>\n      <td>(1 - x)**2 + 2*(-x**2 + y)**2</td>\n      <td>(1, 1)</td>\n      <td>scipy_nelder_mead_</td>\n      <td>True</td>\n      <td>36</td>\n      <td>[1.0, 1.0]</td>\n      <td>Optimization terminated successfully.</td>\n      <td>36</td>\n      <td>[[[1.0, 1.0], [1.025, 1.0125], [1.00625, 1.028...</td>\n    </tr>\n    <tr>\n      <th>21</th>\n      <td>(1 - x)**2 + 2*(-x**2 + y)**2</td>\n      <td>(1, 1)</td>\n      <td>newton_descent_classic_next_point_01</td>\n      <td>True</td>\n      <td>1</td>\n      <td>[1.0, 1.0]</td>\n      <td>StopReason.FUNCTION_DELTA</td>\n      <td>2</td>\n      <td>[[1.0, 1.0], [1.0, 1.0]]</td>\n    </tr>\n    <tr>\n      <th>22</th>\n      <td>(1 - x)**2 + 2*(-x**2 + y)**2</td>\n      <td>(1, 1)</td>\n      <td>newton_descent_linalg_next_point</td>\n      <td>True</td>\n      <td>1</td>\n      <td>[1.0, 1.0]</td>\n      <td>StopReason.FUNCTION_DELTA</td>\n      <td>2</td>\n      <td>[[1.0, 1.0], [1.0, 1.0]]</td>\n    </tr>\n    <tr>\n      <th>23</th>\n      <td>(1 - x)**2 + 2*(-x**2 + y)**2</td>\n      <td>(1, 1)</td>\n      <td>scipy_newton_</td>\n      <td>True</td>\n      <td>1</td>\n      <td>[1.0, 1.0]</td>\n      <td>Optimization terminated successfully.</td>\n      <td>0</td>\n      <td>[]</td>\n    </tr>\n    <tr>\n      <th>24</th>\n      <td>(1 - x)**2 + 2*(-x**2 + y)**2</td>\n      <td>(10, 10)</td>\n      <td>gradient_descent_constant_rate_001</td>\n      <td>False</td>\n      <td>1000</td>\n      <td>[3.0765923062359497, 9.629838787663298]</td>\n      <td>StopReason.ITERATIONS</td>\n      <td>1001</td>\n      <td>[[10.0, 10.0], [2.782, 10.36], [2.836757313856...</td>\n    </tr>\n    <tr>\n      <th>25</th>\n      <td>(1 - x)**2 + 2*(-x**2 + y)**2</td>\n      <td>(10, 10)</td>\n      <td>gradient_descent_constant_rate_0001</td>\n      <td>False</td>\n      <td>1000</td>\n      <td>[3.2128815289928707, 10.490740134542973]</td>\n      <td>StopReason.ITERATIONS</td>\n      <td>1001</td>\n      <td>[[10.0, 10.0], [9.2782, 10.036], [8.7120661298...</td>\n    </tr>\n    <tr>\n      <th>26</th>\n      <td>(1 - x)**2 + 2*(-x**2 + y)**2</td>\n      <td>(10, 10)</td>\n      <td>scipy_nelder_mead_</td>\n      <td>True</td>\n      <td>85</td>\n      <td>[0.9999999665029555, 1.0000001714363922]</td>\n      <td>Optimization terminated successfully.</td>\n      <td>85</td>\n      <td>[[[9.0, 10.75], [10.0, 10.5], [8.5, 11.875]], ...</td>\n    </tr>\n    <tr>\n      <th>27</th>\n      <td>(1 - x)**2 + 2*(-x**2 + y)**2</td>\n      <td>(10, 10)</td>\n      <td>newton_descent_classic_next_point_01</td>\n      <td>False</td>\n      <td>1000</td>\n      <td>[1.1757440971698647, 1.374143086545702]</td>\n      <td>StopReason.ITERATIONS</td>\n      <td>1001</td>\n      <td>[[10.0, 10.0], [9.999750692520776, 10.89501385...</td>\n    </tr>\n    <tr>\n      <th>28</th>\n      <td>(1 - x)**2 + 2*(-x**2 + y)**2</td>\n      <td>(10, 10)</td>\n      <td>newton_descent_linalg_next_point</td>\n      <td>True</td>\n      <td>6</td>\n      <td>[1.0, 1.0]</td>\n      <td>StopReason.FUNCTION_DELTA</td>\n      <td>7</td>\n      <td>[[10.0, 10.0], [9.975069252077562, 99.50138504...</td>\n    </tr>\n    <tr>\n      <th>29</th>\n      <td>(1 - x)**2 + 2*(-x**2 + y)**2</td>\n      <td>(10, 10)</td>\n      <td>scipy_newton_</td>\n      <td>True</td>\n      <td>19</td>\n      <td>[0.9999999991096704, 0.9999999983770089]</td>\n      <td>Optimization terminated successfully.</td>\n      <td>0</td>\n      <td>[]</td>\n    </tr>\n    <tr>\n      <th>30</th>\n      <td>(1 - x)**2 + 2*(-x**2 + y)**2</td>\n      <td>(100, 100)</td>\n      <td>gradient_descent_constant_rate_001</td>\n      <td>True</td>\n      <td>7</td>\n      <td>[nan, nan]</td>\n      <td>StopReason.NAN</td>\n      <td>8</td>\n      <td>[[100.0, 100.0], [-7820.198, 139.6], [38259682...</td>\n    </tr>\n    <tr>\n      <th>31</th>\n      <td>(1 - x)**2 + 2*(-x**2 + y)**2</td>\n      <td>(100, 100)</td>\n      <td>gradient_descent_constant_rate_0001</td>\n      <td>True</td>\n      <td>7</td>\n      <td>[nan, -inf]</td>\n      <td>StopReason.NAN</td>\n      <td>8</td>\n      <td>[[100.0, 100.0], [-692.0198, 103.96], [264372....</td>\n    </tr>\n    <tr>\n      <th>32</th>\n      <td>(1 - x)**2 + 2*(-x**2 + y)**2</td>\n      <td>(100, 100)</td>\n      <td>scipy_nelder_mead_</td>\n      <td>True</td>\n      <td>130</td>\n      <td>[0.9999999792758472, 0.9999996601144927]</td>\n      <td>Optimization terminated successfully.</td>\n      <td>130</td>\n      <td>[[[90.0, 107.5], [100.0, 105.0], [85.0, 118.75...</td>\n    </tr>\n    <tr>\n      <th>33</th>\n      <td>(1 - x)**2 + 2*(-x**2 + y)**2</td>\n      <td>(100, 100)</td>\n      <td>newton_descent_classic_next_point_01</td>\n      <td>False</td>\n      <td>1000</td>\n      <td>[73.39339854631737, 5385.192453766685]</td>\n      <td>StopReason.ITERATIONS</td>\n      <td>1001</td>\n      <td>[[100.0, 100.0], [99.9999750006313, 198.995000...</td>\n    </tr>\n    <tr>\n      <th>34</th>\n      <td>(1 - x)**2 + 2*(-x**2 + y)**2</td>\n      <td>(100, 100)</td>\n      <td>newton_descent_linalg_next_point</td>\n      <td>True</td>\n      <td>5</td>\n      <td>[1.0, 1.0]</td>\n      <td>StopReason.FUNCTION_DELTA</td>\n      <td>6</td>\n      <td>[[100.0, 100.0], [99.99750006312972, 9999.5000...</td>\n    </tr>\n    <tr>\n      <th>35</th>\n      <td>(1 - x)**2 + 2*(-x**2 + y)**2</td>\n      <td>(100, 100)</td>\n      <td>scipy_newton_</td>\n      <td>True</td>\n      <td>37</td>\n      <td>[0.999999997309634, 0.9999999942004566]</td>\n      <td>Optimization terminated successfully.</td>\n      <td>0</td>\n      <td>[]</td>\n    </tr>\n  </tbody>\n</table>\n</div>"
     },
     "execution_count": 44,
     "metadata": {},
     "output_type": "execute_result"
    }
   ],
   "source": [
    "pd.DataFrame(data)"
   ],
   "metadata": {
    "collapsed": false,
    "ExecuteTime": {
     "end_time": "2024-04-23T11:20:18.964057Z",
     "start_time": "2024-04-23T11:20:18.743266Z"
    }
   },
   "id": "3c6d30863a27aaac",
   "execution_count": 44
  },
  {
   "cell_type": "code",
   "outputs": [],
   "source": [
    "pd.DataFrame(data).to_csv('results3.csv')"
   ],
   "metadata": {
    "collapsed": false,
    "ExecuteTime": {
     "end_time": "2024-04-21T17:08:26.391804Z",
     "start_time": "2024-04-21T17:08:26.379587Z"
    }
   },
   "id": "d2e529aac855c860",
   "execution_count": 38
  },
  {
   "cell_type": "code",
   "outputs": [
    {
     "data": {
      "text/plain": "array([10, 11])"
     },
     "execution_count": 21,
     "metadata": {},
     "output_type": "execute_result"
    }
   ],
   "source": [
    "np.vectorize(sympy.lambdify([x, y], funcs[1], 'numpy'))([1, 2], [2, 3])"
   ],
   "metadata": {
    "collapsed": false,
    "ExecuteTime": {
     "end_time": "2024-04-23T10:03:31.809093Z",
     "start_time": "2024-04-23T10:03:31.797617Z"
    }
   },
   "id": "933d821b1c9297cd",
   "execution_count": 21
  },
  {
   "cell_type": "code",
   "outputs": [
    {
     "ename": "TypeError",
     "evalue": "'numpy.int64' object is not iterable",
     "output_type": "error",
     "traceback": [
      "\u001B[0;31m---------------------------------------------------------------------------\u001B[0m",
      "\u001B[0;31mTypeError\u001B[0m                                 Traceback (most recent call last)",
      "Cell \u001B[0;32mIn[19], line 1\u001B[0m\n\u001B[0;32m----> 1\u001B[0m \u001B[43mnp\u001B[49m\u001B[38;5;241;43m.\u001B[39;49m\u001B[43mvectorize\u001B[49m\u001B[43m(\u001B[49m\u001B[43mfs\u001B[49m\u001B[38;5;241;43m.\u001B[39;49m\u001B[43mlambdify\u001B[49m\u001B[43m(\u001B[49m\u001B[43mfuncs\u001B[49m\u001B[43m[\u001B[49m\u001B[38;5;241;43m0\u001B[39;49m\u001B[43m]\u001B[49m\u001B[43m)\u001B[49m\u001B[43m)\u001B[49m\u001B[43m(\u001B[49m\u001B[43m[\u001B[49m\u001B[43m[\u001B[49m\u001B[38;5;241;43m1\u001B[39;49m\u001B[43m,\u001B[49m\u001B[43m \u001B[49m\u001B[38;5;241;43m2\u001B[39;49m\u001B[43m]\u001B[49m\u001B[43m,\u001B[49m\u001B[43m \u001B[49m\u001B[43m[\u001B[49m\u001B[38;5;241;43m2\u001B[39;49m\u001B[43m,\u001B[49m\u001B[43m \u001B[49m\u001B[38;5;241;43m3\u001B[39;49m\u001B[43m]\u001B[49m\u001B[43m]\u001B[49m\u001B[43m)\u001B[49m\n",
      "File \u001B[0;32m/opt/homebrew/lib/python3.11/site-packages/numpy/lib/function_base.py:2372\u001B[0m, in \u001B[0;36mvectorize.__call__\u001B[0;34m(self, *args, **kwargs)\u001B[0m\n\u001B[1;32m   2369\u001B[0m     \u001B[38;5;28mself\u001B[39m\u001B[38;5;241m.\u001B[39m_init_stage_2(\u001B[38;5;241m*\u001B[39margs, \u001B[38;5;241m*\u001B[39m\u001B[38;5;241m*\u001B[39mkwargs)\n\u001B[1;32m   2370\u001B[0m     \u001B[38;5;28;01mreturn\u001B[39;00m \u001B[38;5;28mself\u001B[39m\n\u001B[0;32m-> 2372\u001B[0m \u001B[38;5;28;01mreturn\u001B[39;00m \u001B[38;5;28;43mself\u001B[39;49m\u001B[38;5;241;43m.\u001B[39;49m\u001B[43m_call_as_normal\u001B[49m\u001B[43m(\u001B[49m\u001B[38;5;241;43m*\u001B[39;49m\u001B[43margs\u001B[49m\u001B[43m,\u001B[49m\u001B[43m \u001B[49m\u001B[38;5;241;43m*\u001B[39;49m\u001B[38;5;241;43m*\u001B[39;49m\u001B[43mkwargs\u001B[49m\u001B[43m)\u001B[49m\n",
      "File \u001B[0;32m/opt/homebrew/lib/python3.11/site-packages/numpy/lib/function_base.py:2365\u001B[0m, in \u001B[0;36mvectorize._call_as_normal\u001B[0;34m(self, *args, **kwargs)\u001B[0m\n\u001B[1;32m   2362\u001B[0m     vargs \u001B[38;5;241m=\u001B[39m [args[_i] \u001B[38;5;28;01mfor\u001B[39;00m _i \u001B[38;5;129;01min\u001B[39;00m inds]\n\u001B[1;32m   2363\u001B[0m     vargs\u001B[38;5;241m.\u001B[39mextend([kwargs[_n] \u001B[38;5;28;01mfor\u001B[39;00m _n \u001B[38;5;129;01min\u001B[39;00m names])\n\u001B[0;32m-> 2365\u001B[0m \u001B[38;5;28;01mreturn\u001B[39;00m \u001B[38;5;28;43mself\u001B[39;49m\u001B[38;5;241;43m.\u001B[39;49m\u001B[43m_vectorize_call\u001B[49m\u001B[43m(\u001B[49m\u001B[43mfunc\u001B[49m\u001B[38;5;241;43m=\u001B[39;49m\u001B[43mfunc\u001B[49m\u001B[43m,\u001B[49m\u001B[43m \u001B[49m\u001B[43margs\u001B[49m\u001B[38;5;241;43m=\u001B[39;49m\u001B[43mvargs\u001B[49m\u001B[43m)\u001B[49m\n",
      "File \u001B[0;32m/opt/homebrew/lib/python3.11/site-packages/numpy/lib/function_base.py:2450\u001B[0m, in \u001B[0;36mvectorize._vectorize_call\u001B[0;34m(self, func, args)\u001B[0m\n\u001B[1;32m   2448\u001B[0m     res \u001B[38;5;241m=\u001B[39m func()\n\u001B[1;32m   2449\u001B[0m \u001B[38;5;28;01melse\u001B[39;00m:\n\u001B[0;32m-> 2450\u001B[0m     ufunc, otypes \u001B[38;5;241m=\u001B[39m \u001B[38;5;28;43mself\u001B[39;49m\u001B[38;5;241;43m.\u001B[39;49m\u001B[43m_get_ufunc_and_otypes\u001B[49m\u001B[43m(\u001B[49m\u001B[43mfunc\u001B[49m\u001B[38;5;241;43m=\u001B[39;49m\u001B[43mfunc\u001B[49m\u001B[43m,\u001B[49m\u001B[43m \u001B[49m\u001B[43margs\u001B[49m\u001B[38;5;241;43m=\u001B[39;49m\u001B[43margs\u001B[49m\u001B[43m)\u001B[49m\n\u001B[1;32m   2452\u001B[0m     \u001B[38;5;66;03m# Convert args to object arrays first\u001B[39;00m\n\u001B[1;32m   2453\u001B[0m     inputs \u001B[38;5;241m=\u001B[39m [asanyarray(a, dtype\u001B[38;5;241m=\u001B[39m\u001B[38;5;28mobject\u001B[39m) \u001B[38;5;28;01mfor\u001B[39;00m a \u001B[38;5;129;01min\u001B[39;00m args]\n",
      "File \u001B[0;32m/opt/homebrew/lib/python3.11/site-packages/numpy/lib/function_base.py:2410\u001B[0m, in \u001B[0;36mvectorize._get_ufunc_and_otypes\u001B[0;34m(self, func, args)\u001B[0m\n\u001B[1;32m   2406\u001B[0m     \u001B[38;5;28;01mraise\u001B[39;00m \u001B[38;5;167;01mValueError\u001B[39;00m(\u001B[38;5;124m'\u001B[39m\u001B[38;5;124mcannot call `vectorize` on size 0 inputs \u001B[39m\u001B[38;5;124m'\u001B[39m\n\u001B[1;32m   2407\u001B[0m                      \u001B[38;5;124m'\u001B[39m\u001B[38;5;124munless `otypes` is set\u001B[39m\u001B[38;5;124m'\u001B[39m)\n\u001B[1;32m   2409\u001B[0m inputs \u001B[38;5;241m=\u001B[39m [arg\u001B[38;5;241m.\u001B[39mflat[\u001B[38;5;241m0\u001B[39m] \u001B[38;5;28;01mfor\u001B[39;00m arg \u001B[38;5;129;01min\u001B[39;00m args]\n\u001B[0;32m-> 2410\u001B[0m outputs \u001B[38;5;241m=\u001B[39m \u001B[43mfunc\u001B[49m\u001B[43m(\u001B[49m\u001B[38;5;241;43m*\u001B[39;49m\u001B[43minputs\u001B[49m\u001B[43m)\u001B[49m\n\u001B[1;32m   2412\u001B[0m \u001B[38;5;66;03m# Performance note: profiling indicates that -- for simple\u001B[39;00m\n\u001B[1;32m   2413\u001B[0m \u001B[38;5;66;03m# functions at least -- this wrapping can almost double the\u001B[39;00m\n\u001B[1;32m   2414\u001B[0m \u001B[38;5;66;03m# execution time.\u001B[39;00m\n\u001B[1;32m   2415\u001B[0m \u001B[38;5;66;03m# Hence we make it optional.\u001B[39;00m\n\u001B[1;32m   2416\u001B[0m \u001B[38;5;28;01mif\u001B[39;00m \u001B[38;5;28mself\u001B[39m\u001B[38;5;241m.\u001B[39mcache:\n",
      "File \u001B[0;32m~/DataspellProjects/meth-opt-grad-desc/funcs.py:18\u001B[0m, in \u001B[0;36mlambdify.<locals>.lambdified\u001B[0;34m(x)\u001B[0m\n\u001B[1;32m     17\u001B[0m \u001B[38;5;28;01mdef\u001B[39;00m \u001B[38;5;21mlambdified\u001B[39m(x):\n\u001B[0;32m---> 18\u001B[0m     lam \u001B[38;5;241m=\u001B[39m f\u001B[38;5;241m.\u001B[39mevalf(subs\u001B[38;5;241m=\u001B[39m{k: v \u001B[38;5;28;01mfor\u001B[39;00m k, v \u001B[38;5;129;01min\u001B[39;00m \u001B[38;5;28;43mzip\u001B[39;49m\u001B[43m(\u001B[49m\u001B[43mf\u001B[49m\u001B[38;5;241;43m.\u001B[39;49m\u001B[43mfree_symbols\u001B[49m\u001B[43m,\u001B[49m\u001B[43m \u001B[49m\u001B[43mx\u001B[49m\u001B[43m)\u001B[49m})\n\u001B[1;32m     20\u001B[0m     \u001B[38;5;28;01mif\u001B[39;00m lam\u001B[38;5;241m.\u001B[39mis_Matrix:\n\u001B[1;32m     21\u001B[0m         \u001B[38;5;28;01mreturn\u001B[39;00m np\u001B[38;5;241m.\u001B[39marray(lam)\u001B[38;5;241m.\u001B[39mastype(\u001B[38;5;124m'\u001B[39m\u001B[38;5;124mfloat64\u001B[39m\u001B[38;5;124m'\u001B[39m)\n",
      "\u001B[0;31mTypeError\u001B[0m: 'numpy.int64' object is not iterable"
     ]
    }
   ],
   "source": [
    "np.vectorize(fs.lambdify(funcs[0]))([[1, 2], [2, 3]])"
   ],
   "metadata": {
    "collapsed": false,
    "ExecuteTime": {
     "end_time": "2024-04-23T10:02:55.268746Z",
     "start_time": "2024-04-23T10:02:55.238635Z"
    }
   },
   "id": "6dbc3252474ff922",
   "execution_count": 19
  },
  {
   "cell_type": "code",
   "outputs": [],
   "source": [
    "u.plot_func(\n",
    "    from_sympy_to_plotable_func(funcs[1]), [], limit=3\n",
    ").show(renderer='browser')"
   ],
   "metadata": {
    "collapsed": false,
    "ExecuteTime": {
     "end_time": "2024-04-23T11:45:25.608776Z",
     "start_time": "2024-04-23T11:45:23.106284Z"
    }
   },
   "id": "2643dbbaf6f0e599",
   "execution_count": 65
  },
  {
   "cell_type": "code",
   "outputs": [],
   "source": [
    "ff = sympy.sqrt(x ** 2 + y ** 2)"
   ],
   "metadata": {
    "collapsed": false,
    "ExecuteTime": {
     "end_time": "2024-04-23T14:58:20.965496Z",
     "start_time": "2024-04-23T14:58:20.946577Z"
    }
   },
   "id": "4b8fce1106e736a7",
   "execution_count": 77
  },
  {
   "cell_type": "code",
   "outputs": [
    {
     "data": {
      "text/plain": "sqrt(x**2 + y**2)",
      "text/latex": "$\\displaystyle \\sqrt{x^{2} + y^{2}}$"
     },
     "execution_count": 78,
     "metadata": {},
     "output_type": "execute_result"
    }
   ],
   "source": [
    "ff"
   ],
   "metadata": {
    "collapsed": false,
    "ExecuteTime": {
     "end_time": "2024-04-23T14:58:21.078418Z",
     "start_time": "2024-04-23T14:58:21.035135Z"
    }
   },
   "id": "888ff4a98f980dd6",
   "execution_count": 78
  },
  {
   "cell_type": "code",
   "outputs": [
    {
     "data": {
      "text/plain": "5.0"
     },
     "execution_count": 86,
     "metadata": {},
     "output_type": "execute_result"
    }
   ],
   "source": [
    "sympy.lambdify(list(ff.free_symbols), ff)(np.sqrt(16), np.sqrt(9))"
   ],
   "metadata": {
    "collapsed": false,
    "ExecuteTime": {
     "end_time": "2024-04-23T15:07:04.866817Z",
     "start_time": "2024-04-23T15:07:04.849645Z"
    }
   },
   "id": "b8e181bcd4ac670",
   "execution_count": 86
  },
  {
   "cell_type": "code",
   "outputs": [],
   "source": [],
   "metadata": {
    "collapsed": false
   },
   "id": "b5b0c86849c4dde6"
  }
 ],
 "metadata": {
  "kernelspec": {
   "display_name": "Python 3",
   "language": "python",
   "name": "python3"
  },
  "language_info": {
   "codemirror_mode": {
    "name": "ipython",
    "version": 2
   },
   "file_extension": ".py",
   "mimetype": "text/x-python",
   "name": "python",
   "nbconvert_exporter": "python",
   "pygments_lexer": "ipython2",
   "version": "2.7.6"
  }
 },
 "nbformat": 4,
 "nbformat_minor": 5
}
