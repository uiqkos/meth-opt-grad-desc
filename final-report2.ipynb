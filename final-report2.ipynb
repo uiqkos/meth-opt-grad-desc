{
 "cells": [
  {
   "cell_type": "code",
   "id": "initial_id",
   "metadata": {
    "collapsed": true,
    "ExecuteTime": {
     "end_time": "2024-05-18T10:57:37.383639Z",
     "start_time": "2024-05-18T10:57:36.615397Z"
    }
   },
   "source": [
    "import utils as u\n",
    "from all import *\n",
    "import pandas as pd\n",
    "from typing_local import *"
   ],
   "execution_count": 1,
   "outputs": []
  },
  {
   "cell_type": "code",
   "source": [
    "%load_ext autoreload\n",
    "%autoreload 2"
   ],
   "metadata": {
    "collapsed": false,
    "ExecuteTime": {
     "end_time": "2024-05-18T10:57:37.397117Z",
     "start_time": "2024-05-18T10:57:37.384287Z"
    }
   },
   "id": "5400bdfe7963eca0",
   "execution_count": 2,
   "outputs": []
  },
  {
   "cell_type": "code",
   "source": [],
   "metadata": {
    "collapsed": false,
    "ExecuteTime": {
     "end_time": "2024-05-18T10:57:37.400343Z",
     "start_time": "2024-05-18T10:57:37.398741Z"
    }
   },
   "id": "3960246d6539dcb",
   "execution_count": 2,
   "outputs": []
  },
  {
   "cell_type": "code",
   "source": [
    "x, y = sympy.symbols('x y')"
   ],
   "metadata": {
    "collapsed": false,
    "ExecuteTime": {
     "end_time": "2024-05-18T10:57:37.413265Z",
     "start_time": "2024-05-18T10:57:37.401029Z"
    }
   },
   "id": "9097ae97220b3691",
   "execution_count": 3,
   "outputs": []
  },
  {
   "cell_type": "code",
   "source": [
    "funcs = [\n",
    "    x ** 2 + y ** 2,\n",
    "    2 * (y - x ** 2) ** 2 + (1 - x) ** 2,\n",
    "    sp.sin(x) * sp.sin(y) + 0.01 * x ** 2 + 0.01 * y ** 2,\n",
    "    (sp.sin(x) * sp.sin(y) + 0.01 * x ** 2 + 0.01 * y ** 2) * x ** 2,\n",
    "    -20 * sp.exp(-0.2 * sp.sqrt(0.5 * (x ** 2 + y ** 2))) - sp.exp(0.5 * (sp.cos(2 * sp.pi * x) + sp.cos(2 * sp.pi * y))) + 20 + sp.exp(1),\n",
    "    sp.sin(3 * sp.pi * x)**2 + (x - 1)**2 * (1 + sp.sin(3 * sp.pi * y)**2) + (y - 1)**2 * (1 + sp.sin(2 * sp.pi * y)**2),\n",
    "    -0.0001 * (sp.sin(x) * sp.sin(y) * sp.exp(100 - sp.sqrt(x**2 + y**2) / sp.pi))**0.1 + 1,\n",
    "    0.5 + (sp.sin(x**2 - y**2)**2 - 0.5) / ((1 + 0.001 * (x**2 + y**2))**2),\n",
    "    -(y + 47) * sp.sin(sp.sqrt(sp.sqrt((x / 2 + (y + 47))**2))) * sp.sin(sp.sqrt(sp.sqrt((x - (y + 47))**2))),\n",
    "    -sp.cos(x) * sp.cos(y) * sp.exp(-((x - sp.pi)**2 + (y - sp.pi)**2)),\n",
    "    (x ** 2 + y - 11) ** 2 + (x + y ** 2 - 7) ** 2\n",
    "\n",
    "    # y + sympy.log(x ** 2 + y ** 2),\n",
    "]"
   ],
   "metadata": {
    "collapsed": false,
    "ExecuteTime": {
     "end_time": "2024-05-18T10:57:37.490543Z",
     "start_time": "2024-05-18T10:57:37.413965Z"
    }
   },
   "id": "91e3a5a1a0467190",
   "execution_count": 4,
   "outputs": []
  },
  {
   "cell_type": "code",
   "source": [],
   "metadata": {
    "collapsed": false,
    "ExecuteTime": {
     "end_time": "2024-05-18T10:57:37.492775Z",
     "start_time": "2024-05-18T10:57:37.491159Z"
    }
   },
   "id": "843d092da7783f1f",
   "execution_count": 4,
   "outputs": []
  },
  {
   "cell_type": "code",
   "source": [
    "def from_sympy_to_plotable_func(f):\n",
    "    return fs.tupled(np.vectorize(sympy.lambdify([x, y], f, 'numpy')))"
   ],
   "metadata": {
    "collapsed": false,
    "ExecuteTime": {
     "end_time": "2024-05-18T10:57:37.504875Z",
     "start_time": "2024-05-18T10:57:37.493496Z"
    }
   },
   "id": "cd1c9e20c136f635",
   "execution_count": 5,
   "outputs": []
  },
  {
   "cell_type": "code",
   "source": [
    "data = []\n",
    "\n",
    "for f in funcs:\n",
    "    for start in [(1, 1), (10, 10), (100, 100)]:\n",
    "        for method in [scipy_nelder_mead_]:\n",
    "            for lr in [constant_rate(0.001), dichotomy_method(0.001), golden_ratio_method(0.001)]:\n",
    "                record = method(f, start, lr)\n",
    "                # match record:\n",
    "                #     case NewtonOptimizationResult(result, iters, stop, success, path) if iters < 10 and f == funcs[\n",
    "                #         0] and False:\n",
    "                #         u.plot_func(from_sympy_to_plotable_func(f), path, label=str(f) + ' ' + method.__name__).show()\n",
    "                #     case GradientOptimizationResult(result, iters, stop, success, path) if f == funcs[1]:\n",
    "                #         u.plot_func(from_sympy_to_plotable_func(f), path, label=str(f) + ' ' + method.__name__).show()\n",
    "                # \n",
    "                data.append({\n",
    "                    'function': str(f),\n",
    "                    'start_point': str(start),\n",
    "                    'method': method.__name__,\n",
    "                    'success': record.success,\n",
    "                    'iterations': record.iterations,\n",
    "                    'result': record.result,\n",
    "                    'stop_reason': record.stop_reason,\n",
    "                    'path_len': len(record.path if hasattr(record, 'path') else record.simplexes),\n",
    "                    'path': record.path if hasattr(record, 'path') else record.simplexes,\n",
    "                    'lr': lr.__name__\n",
    "                })\n",
    "\n"
   ],
   "metadata": {
    "collapsed": false,
    "ExecuteTime": {
     "end_time": "2024-05-18T10:57:37.932621Z",
     "start_time": "2024-05-18T10:57:37.505667Z"
    }
   },
   "id": "8f0dedb5a926111b",
   "execution_count": 6,
   "outputs": []
  },
  {
   "cell_type": "code",
   "source": [
    "import gc\n",
    "\n",
    "gc.collect()"
   ],
   "metadata": {
    "collapsed": false
   },
   "id": "9a3f9e336a5ec53b",
   "execution_count": null,
   "outputs": []
  },
  {
   "cell_type": "code",
   "source": [
    "pd.DataFrame(data)"
   ],
   "metadata": {
    "collapsed": false,
    "is_executing": true
   },
   "id": "3c6d30863a27aaac",
   "execution_count": null,
   "outputs": []
  },
  {
   "cell_type": "code",
   "source": [],
   "metadata": {
    "collapsed": false
   },
   "id": "1edcb0fc298e079e",
   "execution_count": null,
   "outputs": []
  },
  {
   "cell_type": "code",
   "source": [
    "pd.DataFrame(data).to_csv('results_total.csv')"
   ],
   "metadata": {
    "collapsed": false
   },
   "id": "d2e529aac855c860",
   "execution_count": null,
   "outputs": []
  },
  {
   "cell_type": "code",
   "source": [
    "np.vectorize(sympy.lambdify([x, y], funcs[1], 'numpy'))([1, 2], [2, 3])"
   ],
   "metadata": {
    "collapsed": false
   },
   "id": "933d821b1c9297cd",
   "execution_count": null,
   "outputs": []
  },
  {
   "cell_type": "code",
   "source": [
    "np.vectorize(fs.lambdify(funcs[0]))([[1, 2], [2, 3]])"
   ],
   "metadata": {
    "collapsed": false
   },
   "id": "6dbc3252474ff922",
   "execution_count": null,
   "outputs": []
  },
  {
   "cell_type": "code",
   "source": [
    "u.plot_func(\n",
    "    from_sympy_to_plotable_func(funcs[1]), [], limit=3\n",
    ").show(renderer='browser')"
   ],
   "metadata": {
    "collapsed": false
   },
   "id": "2643dbbaf6f0e599",
   "execution_count": null,
   "outputs": []
  },
  {
   "cell_type": "code",
   "source": [
    "ff = sympy.sqrt(x ** 2 + y ** 2)"
   ],
   "metadata": {
    "collapsed": false
   },
   "id": "4b8fce1106e736a7",
   "execution_count": null,
   "outputs": []
  },
  {
   "cell_type": "code",
   "source": [
    "ff"
   ],
   "metadata": {
    "collapsed": false
   },
   "id": "888ff4a98f980dd6",
   "execution_count": null,
   "outputs": []
  },
  {
   "cell_type": "code",
   "source": [
    "sympy.lambdify(list(ff.free_symbols), ff)(np.sqrt(16), np.sqrt(9))"
   ],
   "metadata": {
    "collapsed": false
   },
   "id": "b8e181bcd4ac670",
   "execution_count": null,
   "outputs": []
  },
  {
   "cell_type": "code",
   "source": [
    "ff2 = sympy.Abs(x + y) + sympy.Abs(x)"
   ],
   "metadata": {
    "collapsed": false
   },
   "id": "b5b0c86849c4dde6",
   "execution_count": null,
   "outputs": []
  },
  {
   "cell_type": "code",
   "source": [
    "ff2"
   ],
   "metadata": {
    "collapsed": false
   },
   "id": "a4d7385f2a9c9d42",
   "execution_count": null,
   "outputs": []
  },
  {
   "cell_type": "code",
   "source": [
    "sympy.lambdify([x, y], ff2, 'numpy')(1, 2)"
   ],
   "metadata": {
    "collapsed": false
   },
   "id": "bd105cc73f7cb1f7",
   "execution_count": null,
   "outputs": []
  },
  {
   "cell_type": "code",
   "source": [
    "gradient_descent_constant_rate_001(\n",
    "    func=ff2,\n",
    "    start_point=(1, 1)\n",
    ")"
   ],
   "metadata": {
    "collapsed": false
   },
   "id": "d45a03e974c13d87",
   "execution_count": null,
   "outputs": []
  },
  {
   "cell_type": "code",
   "source": [
    "gradient_descend(\n",
    "    fs.tupled(sympy.lambdify([x, y], funcs[2], 'numpy')),\n",
    "    jac=fs.jacobi(funcs[2]),\n",
    "    start=(1, 1),\n",
    "    learning_rate_function=constant_rate(0.001),\n",
    "    max_iter=1000,\n",
    "    stop_point_delta=1e-10,\n",
    "    stop_function_delta=1e-10\n",
    ")"
   ],
   "metadata": {
    "collapsed": false
   },
   "id": "5cf153d0a20ba84e",
   "execution_count": null,
   "outputs": []
  },
  {
   "cell_type": "code",
   "source": [],
   "metadata": {
    "collapsed": false
   },
   "id": "57e62355ee50352b",
   "execution_count": null,
   "outputs": []
  }
 ],
 "metadata": {
  "kernelspec": {
   "display_name": "Python 3",
   "language": "python",
   "name": "python3"
  },
  "language_info": {
   "codemirror_mode": {
    "name": "ipython",
    "version": 2
   },
   "file_extension": ".py",
   "mimetype": "text/x-python",
   "name": "python",
   "nbconvert_exporter": "python",
   "pygments_lexer": "ipython2",
   "version": "2.7.6"
  }
 },
 "nbformat": 4,
 "nbformat_minor": 5
}
