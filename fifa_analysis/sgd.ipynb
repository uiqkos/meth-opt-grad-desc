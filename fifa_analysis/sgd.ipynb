{
 "cells": [
  {
   "cell_type": "code",
   "id": "initial_id",
   "metadata": {
    "collapsed": true,
    "ExecuteTime": {
     "end_time": "2024-05-29T21:20:41.176659Z",
     "start_time": "2024-05-29T21:20:40.430562Z"
    }
   },
   "source": [
    "import numpy as np\n",
    "import pandas as pd\n",
    "from sklearn.model_selection import train_test_split\n",
    "from sklearn.preprocessing import StandardScaler\n",
    "from sklearn.linear_model import SGDRegressor\n",
    "from sklearn.metrics import mean_squared_error"
   ],
   "outputs": [],
   "execution_count": 3
  },
  {
   "metadata": {
    "ExecuteTime": {
     "end_time": "2024-05-29T21:17:32.053322Z",
     "start_time": "2024-05-29T21:17:32.042289Z"
    }
   },
   "cell_type": "code",
   "source": [
    "%load_ext autoreload\n",
    "%autoreload 2"
   ],
   "id": "3ec8749892b6ce3b",
   "outputs": [],
   "execution_count": 1
  },
  {
   "metadata": {
    "ExecuteTime": {
     "end_time": "2024-05-29T22:32:59.110722Z",
     "start_time": "2024-05-29T22:32:58.544398Z"
    }
   },
   "cell_type": "code",
   "source": "data = pd.read_csv('data/preprocessed.csv')",
   "id": "fb37a462189c9fd6",
   "outputs": [],
   "execution_count": 80
  },
  {
   "metadata": {
    "ExecuteTime": {
     "end_time": "2024-05-29T22:32:59.127978Z",
     "start_time": "2024-05-29T22:32:59.111838Z"
    }
   },
   "cell_type": "code",
   "source": "data.head()",
   "id": "46f8ac09303d0d9a",
   "outputs": [
    {
     "data": {
      "text/plain": [
       "        Age   Overall  Potential      Value       Wage  \\\n",
       "0  1.281177  4.010300   3.717485  18.606655  24.497320   \n",
       "1  1.716499  4.010300   3.717485  12.832655  17.435446   \n",
       "2  0.192871  3.719906   3.553477  19.985520  12.359725   \n",
       "3  0.410532  3.574710   3.389468  17.141610  15.228611   \n",
       "4  0.410532  3.574710   3.225459  15.590386  14.566560   \n",
       "\n",
       "   International Reputation  Weak Foot  Skill Moves  Jersey Number    Height  \\\n",
       "0                  9.705954   1.572348     2.395472      -0.606519 -0.111153   \n",
       "1                  9.705954   1.572348     4.017763      -0.797582  1.021773   \n",
       "2                  9.705954   3.146405     4.017763      -0.606519  0.342017   \n",
       "3                  7.206431   3.146405     2.395472      -0.797582 -1.448006   \n",
       "4                  7.206431   1.572348     2.395472      -0.606519  0.115432   \n",
       "\n",
       "   ...  Position_RB  Position_RCB  Position_RCM  Position_RDM  Position_RF  \\\n",
       "0  ...          0.0           0.0           0.0           0.0          1.0   \n",
       "1  ...          0.0           0.0           0.0           0.0          0.0   \n",
       "2  ...          0.0           0.0           0.0           0.0          0.0   \n",
       "3  ...          0.0           0.0           1.0           0.0          0.0   \n",
       "4  ...          0.0           0.0           0.0           0.0          0.0   \n",
       "\n",
       "   Position_RM  Position_RS  Position_RW  Position_RWB  Position_ST  \n",
       "0          0.0          0.0          0.0           0.0          0.0  \n",
       "1          0.0          0.0          0.0           0.0          1.0  \n",
       "2          0.0          0.0          0.0           0.0          0.0  \n",
       "3          0.0          0.0          0.0           0.0          0.0  \n",
       "4          0.0          0.0          0.0           0.0          0.0  \n",
       "\n",
       "[5 rows x 929 columns]"
      ],
      "text/html": [
       "<div>\n",
       "<style scoped>\n",
       "    .dataframe tbody tr th:only-of-type {\n",
       "        vertical-align: middle;\n",
       "    }\n",
       "\n",
       "    .dataframe tbody tr th {\n",
       "        vertical-align: top;\n",
       "    }\n",
       "\n",
       "    .dataframe thead th {\n",
       "        text-align: right;\n",
       "    }\n",
       "</style>\n",
       "<table border=\"1\" class=\"dataframe\">\n",
       "  <thead>\n",
       "    <tr style=\"text-align: right;\">\n",
       "      <th></th>\n",
       "      <th>Age</th>\n",
       "      <th>Overall</th>\n",
       "      <th>Potential</th>\n",
       "      <th>Value</th>\n",
       "      <th>Wage</th>\n",
       "      <th>International Reputation</th>\n",
       "      <th>Weak Foot</th>\n",
       "      <th>Skill Moves</th>\n",
       "      <th>Jersey Number</th>\n",
       "      <th>Height</th>\n",
       "      <th>...</th>\n",
       "      <th>Position_RB</th>\n",
       "      <th>Position_RCB</th>\n",
       "      <th>Position_RCM</th>\n",
       "      <th>Position_RDM</th>\n",
       "      <th>Position_RF</th>\n",
       "      <th>Position_RM</th>\n",
       "      <th>Position_RS</th>\n",
       "      <th>Position_RW</th>\n",
       "      <th>Position_RWB</th>\n",
       "      <th>Position_ST</th>\n",
       "    </tr>\n",
       "  </thead>\n",
       "  <tbody>\n",
       "    <tr>\n",
       "      <th>0</th>\n",
       "      <td>1.281177</td>\n",
       "      <td>4.010300</td>\n",
       "      <td>3.717485</td>\n",
       "      <td>18.606655</td>\n",
       "      <td>24.497320</td>\n",
       "      <td>9.705954</td>\n",
       "      <td>1.572348</td>\n",
       "      <td>2.395472</td>\n",
       "      <td>-0.606519</td>\n",
       "      <td>-0.111153</td>\n",
       "      <td>...</td>\n",
       "      <td>0.0</td>\n",
       "      <td>0.0</td>\n",
       "      <td>0.0</td>\n",
       "      <td>0.0</td>\n",
       "      <td>1.0</td>\n",
       "      <td>0.0</td>\n",
       "      <td>0.0</td>\n",
       "      <td>0.0</td>\n",
       "      <td>0.0</td>\n",
       "      <td>0.0</td>\n",
       "    </tr>\n",
       "    <tr>\n",
       "      <th>1</th>\n",
       "      <td>1.716499</td>\n",
       "      <td>4.010300</td>\n",
       "      <td>3.717485</td>\n",
       "      <td>12.832655</td>\n",
       "      <td>17.435446</td>\n",
       "      <td>9.705954</td>\n",
       "      <td>1.572348</td>\n",
       "      <td>4.017763</td>\n",
       "      <td>-0.797582</td>\n",
       "      <td>1.021773</td>\n",
       "      <td>...</td>\n",
       "      <td>0.0</td>\n",
       "      <td>0.0</td>\n",
       "      <td>0.0</td>\n",
       "      <td>0.0</td>\n",
       "      <td>0.0</td>\n",
       "      <td>0.0</td>\n",
       "      <td>0.0</td>\n",
       "      <td>0.0</td>\n",
       "      <td>0.0</td>\n",
       "      <td>1.0</td>\n",
       "    </tr>\n",
       "    <tr>\n",
       "      <th>2</th>\n",
       "      <td>0.192871</td>\n",
       "      <td>3.719906</td>\n",
       "      <td>3.553477</td>\n",
       "      <td>19.985520</td>\n",
       "      <td>12.359725</td>\n",
       "      <td>9.705954</td>\n",
       "      <td>3.146405</td>\n",
       "      <td>4.017763</td>\n",
       "      <td>-0.606519</td>\n",
       "      <td>0.342017</td>\n",
       "      <td>...</td>\n",
       "      <td>0.0</td>\n",
       "      <td>0.0</td>\n",
       "      <td>0.0</td>\n",
       "      <td>0.0</td>\n",
       "      <td>0.0</td>\n",
       "      <td>0.0</td>\n",
       "      <td>0.0</td>\n",
       "      <td>0.0</td>\n",
       "      <td>0.0</td>\n",
       "      <td>0.0</td>\n",
       "    </tr>\n",
       "    <tr>\n",
       "      <th>3</th>\n",
       "      <td>0.410532</td>\n",
       "      <td>3.574710</td>\n",
       "      <td>3.389468</td>\n",
       "      <td>17.141610</td>\n",
       "      <td>15.228611</td>\n",
       "      <td>7.206431</td>\n",
       "      <td>3.146405</td>\n",
       "      <td>2.395472</td>\n",
       "      <td>-0.797582</td>\n",
       "      <td>-1.448006</td>\n",
       "      <td>...</td>\n",
       "      <td>0.0</td>\n",
       "      <td>0.0</td>\n",
       "      <td>1.0</td>\n",
       "      <td>0.0</td>\n",
       "      <td>0.0</td>\n",
       "      <td>0.0</td>\n",
       "      <td>0.0</td>\n",
       "      <td>0.0</td>\n",
       "      <td>0.0</td>\n",
       "      <td>0.0</td>\n",
       "    </tr>\n",
       "    <tr>\n",
       "      <th>4</th>\n",
       "      <td>0.410532</td>\n",
       "      <td>3.574710</td>\n",
       "      <td>3.225459</td>\n",
       "      <td>15.590386</td>\n",
       "      <td>14.566560</td>\n",
       "      <td>7.206431</td>\n",
       "      <td>1.572348</td>\n",
       "      <td>2.395472</td>\n",
       "      <td>-0.606519</td>\n",
       "      <td>0.115432</td>\n",
       "      <td>...</td>\n",
       "      <td>0.0</td>\n",
       "      <td>0.0</td>\n",
       "      <td>0.0</td>\n",
       "      <td>0.0</td>\n",
       "      <td>0.0</td>\n",
       "      <td>0.0</td>\n",
       "      <td>0.0</td>\n",
       "      <td>0.0</td>\n",
       "      <td>0.0</td>\n",
       "      <td>0.0</td>\n",
       "    </tr>\n",
       "  </tbody>\n",
       "</table>\n",
       "<p>5 rows × 929 columns</p>\n",
       "</div>"
      ]
     },
     "execution_count": 81,
     "metadata": {},
     "output_type": "execute_result"
    }
   ],
   "execution_count": 81
  },
  {
   "metadata": {
    "ExecuteTime": {
     "end_time": "2024-05-29T22:32:59.267736Z",
     "start_time": "2024-05-29T22:32:59.257715Z"
    }
   },
   "cell_type": "code",
   "source": "y = data['Value']",
   "id": "730b1ea0c2fb58d5",
   "outputs": [],
   "execution_count": 82
  },
  {
   "metadata": {
    "ExecuteTime": {
     "end_time": "2024-05-29T22:33:00.604976Z",
     "start_time": "2024-05-29T22:33:00.559426Z"
    }
   },
   "cell_type": "code",
   "source": [
    "\n",
    "X = data.drop([\n",
    "    'Value',\n",
    "    'Wage',\n",
    "    'Release Clause',\n",
    "], axis=1)"
   ],
   "id": "1735553b63ee6242",
   "outputs": [],
   "execution_count": 83
  },
  {
   "metadata": {},
   "cell_type": "code",
   "outputs": [],
   "execution_count": null,
   "source": [
    "def fit_model_cross_validation(model_supplier):\n",
    "    "
   ],
   "id": "5eba9f7414607d4b"
  },
  {
   "metadata": {
    "ExecuteTime": {
     "end_time": "2024-05-29T22:33:00.615814Z",
     "start_time": "2024-05-29T22:33:00.605616Z"
    }
   },
   "cell_type": "code",
   "source": [
    "def fit_model(model_supplier):\n",
    "    errors = []\n",
    "    for epoch in range(10):\n",
    "        X_train, X_test, y_train, y_test = train_test_split(X, y, test_size=0.2)\n",
    "        model = model_supplier()\n",
    "        model.fit(X_train, y_train)\n",
    "        y_pred = model.predict(X_test)\n",
    "        mse = mean_squared_error(y_test, y_pred)\n",
    "        errors.append(mse)\n",
    "    return sum(errors) / len(errors)"
   ],
   "id": "bd79529e0e18ef08",
   "outputs": [],
   "execution_count": 84
  },
  {
   "metadata": {
    "ExecuteTime": {
     "end_time": "2024-05-29T22:33:08.613370Z",
     "start_time": "2024-05-29T22:33:00.617095Z"
    }
   },
   "cell_type": "code",
   "source": "fit_model(lambda: SGDRegressor())",
   "id": "2be7436714d129a6",
   "outputs": [
    {
     "data": {
      "text/plain": [
       "0.35942068058056187"
      ]
     },
     "execution_count": 85,
     "metadata": {},
     "output_type": "execute_result"
    }
   ],
   "execution_count": 85
  },
  {
   "metadata": {
    "ExecuteTime": {
     "end_time": "2024-05-29T22:33:16.508989Z",
     "start_time": "2024-05-29T22:33:08.620998Z"
    }
   },
   "cell_type": "code",
   "source": "fit_model(lambda: SGDRegressor(l1_ratio=0.5))",
   "id": "6fee245ef62d1fad",
   "outputs": [
    {
     "data": {
      "text/plain": [
       "0.35635827422510336"
      ]
     },
     "execution_count": 86,
     "metadata": {},
     "output_type": "execute_result"
    }
   ],
   "execution_count": 86
  },
  {
   "metadata": {
    "ExecuteTime": {
     "end_time": "2024-05-29T22:33:26.924125Z",
     "start_time": "2024-05-29T22:33:16.519960Z"
    }
   },
   "cell_type": "code",
   "source": "fit_model(lambda: SGDRegressor(penalty='l1'))",
   "id": "df472cb05d25e975",
   "outputs": [
    {
     "data": {
      "text/plain": [
       "0.3479963348405644"
      ]
     },
     "execution_count": 87,
     "metadata": {},
     "output_type": "execute_result"
    }
   ],
   "execution_count": 87
  },
  {
   "metadata": {
    "ExecuteTime": {
     "end_time": "2024-05-29T22:33:43.556520Z",
     "start_time": "2024-05-29T22:33:26.936852Z"
    }
   },
   "cell_type": "code",
   "source": "fit_model(lambda: SGDRegressor(learning_rate='adaptive'))",
   "id": "723281062b424215",
   "outputs": [
    {
     "data": {
      "text/plain": [
       "0.30838813792086406"
      ]
     },
     "execution_count": 88,
     "metadata": {},
     "output_type": "execute_result"
    }
   ],
   "execution_count": 88
  },
  {
   "metadata": {
    "ExecuteTime": {
     "end_time": "2024-05-29T22:33:59.502356Z",
     "start_time": "2024-05-29T22:33:43.572845Z"
    }
   },
   "cell_type": "code",
   "source": "fit_model(lambda: SGDRegressor(learning_rate='adaptive', eta0=0.01))",
   "id": "1a0d88758683bd94",
   "outputs": [
    {
     "data": {
      "text/plain": [
       "0.3212804445024532"
      ]
     },
     "execution_count": 89,
     "metadata": {},
     "output_type": "execute_result"
    }
   ],
   "execution_count": 89
  },
  {
   "metadata": {
    "ExecuteTime": {
     "end_time": "2024-05-29T22:34:23.277444Z",
     "start_time": "2024-05-29T22:33:59.506910Z"
    }
   },
   "cell_type": "code",
   "source": "fit_model(lambda: SGDRegressor(learning_rate='adaptive', eta0=0.01, penalty='l1'))",
   "id": "4569aadad44f0d10",
   "outputs": [
    {
     "data": {
      "text/plain": [
       "0.2909370763744846"
      ]
     },
     "execution_count": 90,
     "metadata": {},
     "output_type": "execute_result"
    }
   ],
   "execution_count": 90
  },
  {
   "metadata": {
    "ExecuteTime": {
     "end_time": "2024-05-29T22:34:46.606376Z",
     "start_time": "2024-05-29T22:34:23.281420Z"
    }
   },
   "cell_type": "code",
   "source": "fit_model(lambda: SGDRegressor(learning_rate='adaptive', eta0=0.01, penalty='l1', l1_ratio=0.5))",
   "id": "396ebb604eadbf3c",
   "outputs": [
    {
     "data": {
      "text/plain": [
       "0.33066491705489304"
      ]
     },
     "execution_count": 91,
     "metadata": {},
     "output_type": "execute_result"
    }
   ],
   "execution_count": 91
  },
  {
   "metadata": {
    "ExecuteTime": {
     "end_time": "2024-05-29T22:34:49.295663Z",
     "start_time": "2024-05-29T22:34:46.612543Z"
    }
   },
   "cell_type": "code",
   "source": "coefs = SGDRegressor(learning_rate='adaptive', eta0=0.01, penalty='l1').fit(X, y).coef_",
   "id": "fea505231950b4c0",
   "outputs": [],
   "execution_count": 92
  },
  {
   "metadata": {
    "ExecuteTime": {
     "end_time": "2024-05-29T22:34:49.306036Z",
     "start_time": "2024-05-29T22:34:49.296385Z"
    }
   },
   "cell_type": "code",
   "source": "coefs = pd.Series(coefs, index=X.columns, name='coef')",
   "id": "e4601203bcdaf20b",
   "outputs": [],
   "execution_count": 93
  },
  {
   "metadata": {
    "ExecuteTime": {
     "end_time": "2024-05-29T22:34:49.319074Z",
     "start_time": "2024-05-29T22:34:49.308002Z"
    }
   },
   "cell_type": "code",
   "source": "coefs[coefs != 0].sort_values(ascending=False, key=abs)",
   "id": "941da0de9d71054d",
   "outputs": [
    {
     "data": {
      "text/plain": [
       "Club_Real Madrid         2.288612\n",
       "Body Type_Neymar         2.155534\n",
       "Club_Manchester City     2.145934\n",
       "Club_FC Barcelona        2.025629\n",
       "Club_Juventus            1.973812\n",
       "                           ...   \n",
       "Club_Bolton Wanderers   -0.001516\n",
       "Club_CD Numancia        -0.000523\n",
       "Club_Rotherham United   -0.000257\n",
       "Club_Grenoble Foot 38    0.000071\n",
       "Club_Carpi               0.000053\n",
       "Name: coef, Length: 497, dtype: float64"
      ]
     },
     "execution_count": 94,
     "metadata": {},
     "output_type": "execute_result"
    }
   ],
   "execution_count": 94
  },
  {
   "metadata": {
    "ExecuteTime": {
     "end_time": "2024-05-29T23:29:08.344065Z",
     "start_time": "2024-05-29T23:29:08.274499Z"
    }
   },
   "cell_type": "code",
   "source": [
    "df_no_clubs = data.drop([\n",
    "    *filter(lambda x: 'Club' in x, data.columns),\n",
    "], axis=1)\n",
    "    "
   ],
   "id": "89048e619377845f",
   "outputs": [],
   "execution_count": 137
  },
  {
   "metadata": {
    "ExecuteTime": {
     "end_time": "2024-05-29T23:29:13.913924Z",
     "start_time": "2024-05-29T23:29:13.893591Z"
    }
   },
   "cell_type": "code",
   "source": [
    "y_no_clubs = df_no_clubs['Value']\n",
    "X_no_clubs = df_no_clubs.drop([\n",
    "    'Value',\n",
    "    'Wage',\n",
    "    'Release Clause',\n",
    "], axis=1)"
   ],
   "id": "d878d046c5b80366",
   "outputs": [],
   "execution_count": 138
  },
  {
   "metadata": {
    "ExecuteTime": {
     "end_time": "2024-05-29T23:29:46.411707Z",
     "start_time": "2024-05-29T23:29:46.371105Z"
    }
   },
   "cell_type": "code",
   "source": [
    "def fit_model_no_clubs(model_supplier):\n",
    "    errors = []\n",
    "    for epoch in range(10):\n",
    "        X_train, X_test, y_train, y_test = train_test_split(X_no_clubs, y_no_clubs, test_size=0.2)\n",
    "        model = model_supplier()\n",
    "        model.fit(X_train, y_train)\n",
    "        y_pred = model.predict(X_test)\n",
    "        mse = mean_squared_error(y_test, y_pred)\n",
    "        errors.append(mse)\n",
    "    return sum(errors) / len(errors)"
   ],
   "id": "f87011757f4f68f8",
   "outputs": [],
   "execution_count": 139
  },
  {
   "metadata": {
    "ExecuteTime": {
     "end_time": "2024-05-29T23:30:25.315147Z",
     "start_time": "2024-05-29T23:30:17.702772Z"
    }
   },
   "cell_type": "code",
   "source": "fit_model(lambda: SGDRegressor())",
   "id": "5f07bff058e5220c",
   "outputs": [
    {
     "data": {
      "text/plain": [
       "0.3493658525349342"
      ]
     },
     "execution_count": 140,
     "metadata": {},
     "output_type": "execute_result"
    }
   ],
   "execution_count": 140
  },
  {
   "metadata": {
    "ExecuteTime": {
     "end_time": "2024-05-29T23:30:33.361662Z",
     "start_time": "2024-05-29T23:30:25.336570Z"
    }
   },
   "cell_type": "code",
   "source": "fit_model(lambda: SGDRegressor(l1_ratio=0.5))",
   "id": "8de6d2f4a71aeca8",
   "outputs": [
    {
     "data": {
      "text/plain": [
       "0.34970638172029045"
      ]
     },
     "execution_count": 141,
     "metadata": {},
     "output_type": "execute_result"
    }
   ],
   "execution_count": 141
  },
  {
   "metadata": {
    "ExecuteTime": {
     "end_time": "2024-05-29T23:30:43.824582Z",
     "start_time": "2024-05-29T23:30:33.377714Z"
    }
   },
   "cell_type": "code",
   "source": "fit_model(lambda: SGDRegressor(penalty='l1'))",
   "id": "8691138d727ca380",
   "outputs": [
    {
     "data": {
      "text/plain": [
       "0.307357195579128"
      ]
     },
     "execution_count": 142,
     "metadata": {},
     "output_type": "execute_result"
    }
   ],
   "execution_count": 142
  },
  {
   "metadata": {
    "ExecuteTime": {
     "end_time": "2024-05-29T23:30:59.065286Z",
     "start_time": "2024-05-29T23:30:43.834069Z"
    }
   },
   "cell_type": "code",
   "source": "fit_model(lambda: SGDRegressor(learning_rate='adaptive'))",
   "id": "b49822c51bf26dad",
   "outputs": [
    {
     "data": {
      "text/plain": [
       "0.31344129546378136"
      ]
     },
     "execution_count": 143,
     "metadata": {},
     "output_type": "execute_result"
    }
   ],
   "execution_count": 143
  },
  {
   "metadata": {
    "ExecuteTime": {
     "end_time": "2024-05-29T23:31:14.149416Z",
     "start_time": "2024-05-29T23:30:59.077580Z"
    }
   },
   "cell_type": "code",
   "source": "fit_model(lambda: SGDRegressor(learning_rate='adaptive', eta0=0.01))",
   "id": "b4daaf057528a96",
   "outputs": [
    {
     "data": {
      "text/plain": [
       "0.3111816607076924"
      ]
     },
     "execution_count": 144,
     "metadata": {},
     "output_type": "execute_result"
    }
   ],
   "execution_count": 144
  },
  {
   "metadata": {
    "ExecuteTime": {
     "end_time": "2024-05-29T23:31:37.040245Z",
     "start_time": "2024-05-29T23:31:14.160407Z"
    }
   },
   "cell_type": "code",
   "source": "fit_model(lambda: SGDRegressor(learning_rate='adaptive', eta0=0.01, penalty='l1'))",
   "id": "4c7c50758e6575",
   "outputs": [
    {
     "data": {
      "text/plain": [
       "0.3078425324750679"
      ]
     },
     "execution_count": 145,
     "metadata": {},
     "output_type": "execute_result"
    }
   ],
   "execution_count": 145
  },
  {
   "metadata": {
    "ExecuteTime": {
     "end_time": "2024-05-29T23:31:59.730607Z",
     "start_time": "2024-05-29T23:31:37.046571Z"
    }
   },
   "cell_type": "code",
   "source": "fit_model(lambda: SGDRegressor(learning_rate='adaptive', eta0=0.01, penalty='l1', l1_ratio=0.5))",
   "id": "c5dda59e50ad8791",
   "outputs": [
    {
     "data": {
      "text/plain": [
       "0.31735480580076814"
      ]
     },
     "execution_count": 146,
     "metadata": {},
     "output_type": "execute_result"
    }
   ],
   "execution_count": 146
  },
  {
   "metadata": {
    "ExecuteTime": {
     "end_time": "2024-05-29T22:35:29.869392Z",
     "start_time": "2024-05-29T22:35:24.085303Z"
    }
   },
   "cell_type": "code",
   "source": [
    "from sklearn.tree import DecisionTreeRegressor\n",
    "\n",
    "fit_model(lambda: DecisionTreeRegressor())"
   ],
   "id": "8012fa98e84c8e69",
   "outputs": [
    {
     "data": {
      "text/plain": [
       "0.04436731455545777"
      ]
     },
     "execution_count": 95,
     "metadata": {},
     "output_type": "execute_result"
    }
   ],
   "execution_count": 95
  },
  {
   "metadata": {
    "ExecuteTime": {
     "end_time": "2024-05-29T22:35:43.546848Z",
     "start_time": "2024-05-29T22:35:41.324236Z"
    }
   },
   "cell_type": "code",
   "source": "fit_model(lambda: DecisionTreeRegressor(max_depth=5))",
   "id": "c11a606b2750ec50",
   "outputs": [
    {
     "data": {
      "text/plain": [
       "0.07699935020786197"
      ]
     },
     "execution_count": 96,
     "metadata": {},
     "output_type": "execute_result"
    }
   ],
   "execution_count": 96
  },
  {
   "metadata": {
    "ExecuteTime": {
     "end_time": "2024-05-29T22:35:48.809352Z",
     "start_time": "2024-05-29T22:35:44.421137Z"
    }
   },
   "cell_type": "code",
   "source": "fit_model(lambda: DecisionTreeRegressor(max_depth=10))",
   "id": "ffbf133233a64e76",
   "outputs": [
    {
     "data": {
      "text/plain": [
       "0.04376566565831769"
      ]
     },
     "execution_count": 97,
     "metadata": {},
     "output_type": "execute_result"
    }
   ],
   "execution_count": 97
  },
  {
   "metadata": {
    "ExecuteTime": {
     "end_time": "2024-05-29T22:36:15.753378Z",
     "start_time": "2024-05-29T22:36:13.432610Z"
    }
   },
   "cell_type": "code",
   "source": "fit_model(lambda: DecisionTreeRegressor(max_depth=5, min_samples_split=10))",
   "id": "c05a0f36f35ed290",
   "outputs": [
    {
     "data": {
      "text/plain": [
       "0.06430585755044939"
      ]
     },
     "execution_count": 98,
     "metadata": {},
     "output_type": "execute_result"
    }
   ],
   "execution_count": 98
  },
  {
   "metadata": {},
   "cell_type": "markdown",
   "source": "",
   "id": "89f0feaeea70123"
  },
  {
   "metadata": {},
   "cell_type": "code",
   "outputs": [],
   "execution_count": null,
   "source": "",
   "id": "71592a0d312ab459"
  },
  {
   "metadata": {
    "ExecuteTime": {
     "end_time": "2024-05-29T22:44:48.066702Z",
     "start_time": "2024-05-29T22:44:46.830177Z"
    }
   },
   "cell_type": "code",
   "source": [
    "from matplotlib.pyplot import figure\n",
    "from sklearn.tree import plot_tree\n",
    "figure(num=None, figsize=(40, 20), dpi=80, facecolor='w', edgecolor='k')\n",
    "plot_tree(DecisionTreeRegressor(max_depth=5).fit(X, y), feature_names=X.columns, filled=True)\n"
   ],
   "id": "28679338d2bd7437",
   "outputs": [
    {
     "data": {
      "text/plain": [
       "[Text(0.5, 0.9166666666666666, 'Overall <= 2.05\\nsquared_error = 1.0\\nsamples = 14742\\nvalue = 0.0'),\n",
       " Text(0.25, 0.75, 'Overall <= 1.034\\nsquared_error = 0.249\\nsamples = 14388\\nvalue = -0.116'),\n",
       " Text(0.375, 0.8333333333333333, 'True  '),\n",
       " Text(0.125, 0.5833333333333334, 'Overall <= 0.453\\nsquared_error = 0.034\\nsamples = 12575\\nvalue = -0.273'),\n",
       " Text(0.0625, 0.4166666666666667, 'Overall <= -0.273\\nsquared_error = 0.004\\nsamples = 10088\\nvalue = -0.346'),\n",
       " Text(0.03125, 0.25, 'Overall <= -0.999\\nsquared_error = 0.001\\nsamples = 5758\\nvalue = -0.384'),\n",
       " Text(0.015625, 0.08333333333333333, 'squared_error = 0.0\\nsamples = 2247\\nvalue = -0.412'),\n",
       " Text(0.046875, 0.08333333333333333, 'squared_error = 0.001\\nsamples = 3511\\nvalue = -0.366'),\n",
       " Text(0.09375, 0.25, 'Potential <= -0.301\\nsquared_error = 0.003\\nsamples = 4330\\nvalue = -0.296'),\n",
       " Text(0.078125, 0.08333333333333333, 'squared_error = 0.001\\nsamples = 2370\\nvalue = -0.33'),\n",
       " Text(0.109375, 0.08333333333333333, 'squared_error = 0.002\\nsamples = 1960\\nvalue = -0.256'),\n",
       " Text(0.1875, 0.4166666666666667, 'Potential <= 0.191\\nsquared_error = 0.045\\nsamples = 2487\\nvalue = 0.026'),\n",
       " Text(0.15625, 0.25, 'Age <= 1.608\\nsquared_error = 0.014\\nsamples = 1155\\nvalue = -0.124'),\n",
       " Text(0.140625, 0.08333333333333333, 'squared_error = 0.009\\nsamples = 946\\nvalue = -0.088'),\n",
       " Text(0.171875, 0.08333333333333333, 'squared_error = 0.005\\nsamples = 209\\nvalue = -0.284'),\n",
       " Text(0.21875, 0.25, 'Overall <= 0.743\\nsquared_error = 0.036\\nsamples = 1332\\nvalue = 0.157'),\n",
       " Text(0.203125, 0.08333333333333333, 'squared_error = 0.01\\nsamples = 527\\nvalue = 0.031'),\n",
       " Text(0.234375, 0.08333333333333333, 'squared_error = 0.036\\nsamples = 805\\nvalue = 0.239'),\n",
       " Text(0.375, 0.5833333333333334, 'Potential <= 1.175\\nsquared_error = 0.388\\nsamples = 1813\\nvalue = 0.97'),\n",
       " Text(0.3125, 0.4166666666666667, 'Age <= 1.39\\nsquared_error = 0.115\\nsamples = 1044\\nvalue = 0.6'),\n",
       " Text(0.28125, 0.25, 'Potential <= 0.683\\nsquared_error = 0.071\\nsamples = 832\\nvalue = 0.708'),\n",
       " Text(0.265625, 0.08333333333333333, 'squared_error = 0.024\\nsamples = 354\\nvalue = 0.507'),\n",
       " Text(0.296875, 0.08333333333333333, 'squared_error = 0.054\\nsamples = 478\\nvalue = 0.857'),\n",
       " Text(0.34375, 0.25, 'Age <= 1.825\\nsquared_error = 0.064\\nsamples = 212\\nvalue = 0.176'),\n",
       " Text(0.328125, 0.08333333333333333, 'squared_error = 0.047\\nsamples = 132\\nvalue = 0.286'),\n",
       " Text(0.359375, 0.08333333333333333, 'squared_error = 0.041\\nsamples = 80\\nvalue = -0.004'),\n",
       " Text(0.4375, 0.4166666666666667, 'Overall <= 1.469\\nsquared_error = 0.32\\nsamples = 769\\nvalue = 1.471'),\n",
       " Text(0.40625, 0.25, 'Potential <= 1.831\\nsquared_error = 0.06\\nsamples = 316\\nvalue = 1.069'),\n",
       " Text(0.390625, 0.08333333333333333, 'squared_error = 0.037\\nsamples = 227\\nvalue = 0.985'),\n",
       " Text(0.421875, 0.08333333333333333, 'squared_error = 0.057\\nsamples = 89\\nvalue = 1.282'),\n",
       " Text(0.46875, 0.25, 'Potential <= 1.995\\nsquared_error = 0.309\\nsamples = 453\\nvalue = 1.752'),\n",
       " Text(0.453125, 0.08333333333333333, 'squared_error = 0.22\\nsamples = 339\\nvalue = 1.582'),\n",
       " Text(0.484375, 0.08333333333333333, 'squared_error = 0.233\\nsamples = 114\\nvalue = 2.257'),\n",
       " Text(0.75, 0.75, 'Overall <= 2.776\\nsquared_error = 8.732\\nsamples = 354\\nvalue = 4.718'),\n",
       " Text(0.625, 0.8333333333333333, '  False'),\n",
       " Text(0.625, 0.5833333333333334, 'Potential <= 1.995\\nsquared_error = 2.272\\nsamples = 290\\nvalue = 3.704'),\n",
       " Text(0.5625, 0.4166666666666667, 'Age <= 1.39\\nsquared_error = 0.799\\nsamples = 135\\nvalue = 2.7'),\n",
       " Text(0.53125, 0.25, 'Potential <= 1.831\\nsquared_error = 0.404\\nsamples = 111\\nvalue = 3.004'),\n",
       " Text(0.515625, 0.08333333333333333, 'squared_error = 0.201\\nsamples = 68\\nvalue = 2.675'),\n",
       " Text(0.546875, 0.08333333333333333, 'squared_error = 0.284\\nsamples = 43\\nvalue = 3.523'),\n",
       " Text(0.59375, 0.25, 'Age <= 1.608\\nsquared_error = 0.233\\nsamples = 24\\nvalue = 1.298'),\n",
       " Text(0.578125, 0.08333333333333333, 'squared_error = 0.034\\nsamples = 10\\nvalue = 1.741'),\n",
       " Text(0.609375, 0.08333333333333333, 'squared_error = 0.134\\nsamples = 14\\nvalue = 0.981'),\n",
       " Text(0.6875, 0.4166666666666667, 'RF <= 2.225\\nsquared_error = 1.914\\nsamples = 155\\nvalue = 4.577'),\n",
       " Text(0.65625, 0.25, 'Age <= 1.608\\nsquared_error = 1.244\\nsamples = 115\\nvalue = 4.177'),\n",
       " Text(0.640625, 0.08333333333333333, 'squared_error = 0.865\\nsamples = 109\\nvalue = 4.325'),\n",
       " Text(0.671875, 0.08333333333333333, 'squared_error = 0.512\\nsamples = 6\\nvalue = 1.491'),\n",
       " Text(0.71875, 0.25, 'Potential <= 2.159\\nsquared_error = 2.052\\nsamples = 40\\nvalue = 5.729'),\n",
       " Text(0.703125, 0.08333333333333333, 'squared_error = 0.838\\nsamples = 11\\nvalue = 4.223'),\n",
       " Text(0.734375, 0.08333333333333333, 'squared_error = 1.325\\nsamples = 29\\nvalue = 6.301'),\n",
       " Text(0.875, 0.5833333333333334, 'CF <= 2.732\\nsquared_error = 12.217\\nsamples = 64\\nvalue = 9.314'),\n",
       " Text(0.8125, 0.4166666666666667, 'Potential <= 2.815\\nsquared_error = 5.743\\nsamples = 51\\nvalue = 8.083'),\n",
       " Text(0.78125, 0.25, 'Age <= 1.172\\nsquared_error = 3.142\\nsamples = 28\\nvalue = 6.686'),\n",
       " Text(0.765625, 0.08333333333333333, 'squared_error = 1.337\\nsamples = 20\\nvalue = 7.498'),\n",
       " Text(0.796875, 0.08333333333333333, 'squared_error = 1.885\\nsamples = 8\\nvalue = 4.656'),\n",
       " Text(0.84375, 0.25, 'LongShots <= 0.809\\nsquared_error = 3.647\\nsamples = 23\\nvalue = 9.783'),\n",
       " Text(0.828125, 0.08333333333333333, 'squared_error = 2.267\\nsamples = 7\\nvalue = 7.674'),\n",
       " Text(0.859375, 0.08333333333333333, 'squared_error = 1.454\\nsamples = 16\\nvalue = 10.705'),\n",
       " Text(0.9375, 0.4166666666666667, 'Vision <= 2.328\\nsquared_error = 8.325\\nsamples = 13\\nvalue = 14.145'),\n",
       " Text(0.90625, 0.25, 'Potential <= 2.979\\nsquared_error = 1.568\\nsamples = 8\\nvalue = 12.208'),\n",
       " Text(0.890625, 0.08333333333333333, 'squared_error = 0.447\\nsamples = 3\\nvalue = 10.707'),\n",
       " Text(0.921875, 0.08333333333333333, 'squared_error = 0.078\\nsamples = 5\\nvalue = 13.108'),\n",
       " Text(0.96875, 0.25, 'GKKicking <= -0.019\\nsquared_error = 3.522\\nsamples = 5\\nvalue = 17.245'),\n",
       " Text(0.953125, 0.08333333333333333, 'squared_error = 0.878\\nsamples = 3\\nvalue = 15.878'),\n",
       " Text(0.984375, 0.08333333333333333, 'squared_error = 0.475\\nsamples = 2\\nvalue = 19.296')]"
      ]
     },
     "execution_count": 110,
     "metadata": {},
     "output_type": "execute_result"
    },
    {
     "data": {
      "text/plain": [
       "<Figure size 3200x1600 with 1 Axes>"
      ],
      "image/png": "[encoded data removed]"
     },
     "metadata": {},
     "output_type": "display_data"
    }
   ],
   "execution_count": 110
  },
  {
   "metadata": {
    "ExecuteTime": {
     "end_time": "2024-05-29T22:45:45.662242Z",
     "start_time": "2024-05-29T22:45:45.365727Z"
    }
   },
   "cell_type": "code",
   "source": "m = DecisionTreeRegressor(max_depth=5).fit(X, y)",
   "id": "960e2e14b34160e6",
   "outputs": [],
   "execution_count": 111
  },
  {
   "metadata": {
    "ExecuteTime": {
     "end_time": "2024-05-29T22:47:14.443632Z",
     "start_time": "2024-05-29T22:47:14.424375Z"
    }
   },
   "cell_type": "code",
   "source": [
    "from sklearn import tree\n",
    "import graphviz\n",
    "# DOT data\n",
    "dot_data = tree.export_graphviz(m, out_file=None, \n",
    "                                feature_names=X.columns,  \n",
    "                                class_names=y,\n",
    "                                filled=True)\n",
    "\n",
    "# Draw graph\n",
    "graph = graphviz.Source(dot_data, format=\"png\") \n",
    "graph."
   ],
   "id": "f4f84934a0900fc4",
   "outputs": [
    {
     "data": {
      "text/plain": [
       "'tree.png'"
      ]
     },
     "execution_count": 113,
     "metadata": {},
     "output_type": "execute_result"
    }
   ],
   "execution_count": 113
  },
  {
   "metadata": {
    "ExecuteTime": {
     "end_time": "2024-05-29T23:04:57.031826Z",
     "start_time": "2024-05-29T23:04:56.541276Z"
    }
   },
   "cell_type": "code",
   "source": "df2 = pd.read_csv('data/preprocessed_no_scale.csv')",
   "id": "5923a5bdef758ebe",
   "outputs": [],
   "execution_count": 124
  },
  {
   "metadata": {
    "ExecuteTime": {
     "end_time": "2024-05-29T23:04:57.070076Z",
     "start_time": "2024-05-29T23:04:57.032844Z"
    }
   },
   "cell_type": "code",
   "source": [
    "y_no_prep = df2['Value']\n",
    "X_no_prep = df2.drop([\n",
    "    'Value',\n",
    "    'Wage',\n",
    "    'Release Clause',\n",
    "], axis=1)"
   ],
   "id": "c26cca7bf0831b15",
   "outputs": [],
   "execution_count": 125
  },
  {
   "metadata": {
    "ExecuteTime": {
     "end_time": "2024-05-29T23:13:28.202141Z",
     "start_time": "2024-05-29T23:13:28.132434Z"
    }
   },
   "cell_type": "code",
   "source": [
    "import re\n",
    "import pyperclip\n",
    "\n",
    "def view_tree(m, X_, y_):\n",
    "    v = (tree.export_text(m, feature_names=X_.columns, class_names=y_))\n",
    "    \n",
    "    # transform [value] to millions, thousands, etc.\n",
    "    v = re.sub(r'\\[(\\d+.\\d+)\\]', lambda x: f'{float(x.group(0)[1:][:-1]) / 1000000:.2f}M' if float(x.group(0)[1:][:-1]) > 1000000 else f'{float(x.group(0)[1:][:-1]) / 1000:.2f}K', v)\n",
    "    \n",
    "    pyperclip.copy(v)\n",
    "    print(v)"
   ],
   "id": "dac7858fa9066d19",
   "outputs": [],
   "execution_count": 134
  },
  {
   "metadata": {
    "ExecuteTime": {
     "end_time": "2024-05-29T23:13:34.762416Z",
     "start_time": "2024-05-29T23:13:34.444649Z"
    }
   },
   "cell_type": "code",
   "source": "view_tree(DecisionTreeRegressor(max_depth=5).fit(X_no_prep, y_no_prep), X_no_prep, y_no_prep)",
   "id": "9033621b65ebd0d2",
   "outputs": [
    {
     "name": "stdout",
     "output_type": "stream",
     "text": [
      "|--- Overall <= 80.50\n",
      "|   |--- Overall <= 73.50\n",
      "|   |   |--- Overall <= 69.50\n",
      "|   |   |   |--- Overall <= 64.50\n",
      "|   |   |   |   |--- Overall <= 59.50\n",
      "|   |   |   |   |   |--- value: 154.05K\n",
      "|   |   |   |   |--- Overall >  59.50\n",
      "|   |   |   |   |   |--- value: 423.83K\n",
      "|   |   |   |--- Overall >  64.50\n",
      "|   |   |   |   |--- Potential <= 69.50\n",
      "|   |   |   |   |   |--- value: 632.66K\n",
      "|   |   |   |   |--- Potential >  69.50\n",
      "|   |   |   |   |   |--- value: 1.06M\n",
      "|   |   |--- Overall >  69.50\n",
      "|   |   |   |--- Potential <= 72.50\n",
      "|   |   |   |   |--- Age <= 32.50\n",
      "|   |   |   |   |   |--- value: 2.04M\n",
      "|   |   |   |   |--- Age >  32.50\n",
      "|   |   |   |   |   |--- value: 898.80K\n",
      "|   |   |   |--- Potential >  72.50\n",
      "|   |   |   |   |--- Overall <= 71.50\n",
      "|   |   |   |   |   |--- value: 2.72M\n",
      "|   |   |   |   |--- Overall >  71.50\n",
      "|   |   |   |   |   |--- value: 3.93M\n",
      "|   |--- Overall >  73.50\n",
      "|   |   |--- Potential <= 78.50\n",
      "|   |   |   |--- Age <= 31.50\n",
      "|   |   |   |   |--- Potential <= 75.50\n",
      "|   |   |   |   |   |--- value: 5.49M\n",
      "|   |   |   |   |--- Potential >  75.50\n",
      "|   |   |   |   |   |--- value: 7.52M\n",
      "|   |   |   |--- Age >  31.50\n",
      "|   |   |   |   |--- Age <= 33.50\n",
      "|   |   |   |   |   |--- value: 4.20M\n",
      "|   |   |   |   |--- Age >  33.50\n",
      "|   |   |   |   |   |--- value: 2.52M\n",
      "|   |   |--- Potential >  78.50\n",
      "|   |   |   |--- Overall <= 76.50\n",
      "|   |   |   |   |--- Potential <= 82.50\n",
      "|   |   |   |   |   |--- value: 8.26M\n",
      "|   |   |   |   |--- Potential >  82.50\n",
      "|   |   |   |   |   |--- value: 9.98M\n",
      "|   |   |   |--- Overall >  76.50\n",
      "|   |   |   |   |--- Potential <= 83.50\n",
      "|   |   |   |   |   |--- value: 11.73M\n",
      "|   |   |   |   |--- Potential >  83.50\n",
      "|   |   |   |   |   |--- value: 15.64M\n",
      "|--- Overall >  80.50\n",
      "|   |--- Overall <= 85.50\n",
      "|   |   |--- Potential <= 83.50\n",
      "|   |   |   |--- Age <= 31.50\n",
      "|   |   |   |   |--- Potential <= 82.50\n",
      "|   |   |   |   |   |--- value: 18.07M\n",
      "|   |   |   |   |--- Potential >  82.50\n",
      "|   |   |   |   |   |--- value: 22.99M\n",
      "|   |   |   |--- Age >  31.50\n",
      "|   |   |   |   |--- Age <= 32.50\n",
      "|   |   |   |   |   |--- value: 12.65M\n",
      "|   |   |   |   |--- Age >  32.50\n",
      "|   |   |   |   |   |--- value: 8.24M\n",
      "|   |   |--- Potential >  83.50\n",
      "|   |   |   |--- CF <= 80.50\n",
      "|   |   |   |   |--- Age <= 32.50\n",
      "|   |   |   |   |   |--- value: 27.64M\n",
      "|   |   |   |   |--- Age >  32.50\n",
      "|   |   |   |   |   |--- value: 11.20M\n",
      "|   |   |   |--- CF >  80.50\n",
      "|   |   |   |   |--- Potential <= 84.50\n",
      "|   |   |   |   |   |--- value: 27.05M\n",
      "|   |   |   |   |--- Potential >  84.50\n",
      "|   |   |   |   |   |--- value: 39.10M\n",
      "|   |--- Overall >  85.50\n",
      "|   |   |--- RF <= 85.50\n",
      "|   |   |   |--- Potential <= 88.50\n",
      "|   |   |   |   |--- Age <= 30.50\n",
      "|   |   |   |   |   |--- value: 46.05M\n",
      "|   |   |   |   |--- Age >  30.50\n",
      "|   |   |   |   |   |--- value: 29.56M\n",
      "|   |   |   |--- Potential >  88.50\n",
      "|   |   |   |   |--- LongShots <= 64.00\n",
      "|   |   |   |   |   |--- value: 47.07M\n",
      "|   |   |   |   |--- LongShots >  64.00\n",
      "|   |   |   |   |   |--- value: 64.66M\n",
      "|   |   |--- RF >  85.50\n",
      "|   |   |   |--- Vision <= 85.50\n",
      "|   |   |   |   |--- Potential <= 89.50\n",
      "|   |   |   |   |   |--- value: 64.67M\n",
      "|   |   |   |   |--- Potential >  89.50\n",
      "|   |   |   |   |   |--- value: 78.60M\n",
      "|   |   |   |--- Vision >  85.50\n",
      "|   |   |   |   |--- Finishing <= 85.50\n",
      "|   |   |   |   |   |--- value: 94.67M\n",
      "|   |   |   |   |--- Finishing >  85.50\n",
      "|   |   |   |   |   |--- value: 114.50M\n",
      "\n"
     ]
    }
   ],
   "execution_count": 135
  },
  {
   "metadata": {
    "ExecuteTime": {
     "end_time": "2024-05-29T23:14:01.321465Z",
     "start_time": "2024-05-29T23:14:00.887942Z"
    }
   },
   "cell_type": "code",
   "source": [
    "X_no_overall = X_no_prep.drop([\n",
    "    'Overall',\n",
    "], axis=1)\n",
    "\n",
    "view_tree(DecisionTreeRegressor(max_depth=5).fit(X_no_overall, y_no_prep), X_no_overall, y_no_prep)"
   ],
   "id": "68060e6847ce3ea5",
   "outputs": [
    {
     "name": "stdout",
     "output_type": "stream",
     "text": [
      "|--- RAM <= 77.50\n",
      "|   |--- Reactions <= 71.50\n",
      "|   |   |--- CF <= 68.50\n",
      "|   |   |   |--- LCB <= 70.50\n",
      "|   |   |   |   |--- BallControl <= 67.50\n",
      "|   |   |   |   |   |--- value: 559.39K\n",
      "|   |   |   |   |--- BallControl >  67.50\n",
      "|   |   |   |   |   |--- value: 1.52M\n",
      "|   |   |   |--- LCB >  70.50\n",
      "|   |   |   |   |--- Potential <= 75.50\n",
      "|   |   |   |   |   |--- value: 3.02M\n",
      "|   |   |   |   |--- Potential >  75.50\n",
      "|   |   |   |   |   |--- value: 6.52M\n",
      "|   |   |--- CF >  68.50\n",
      "|   |   |   |--- Potential <= 73.50\n",
      "|   |   |   |   |--- Potential <= 71.50\n",
      "|   |   |   |   |   |--- value: 1.84M\n",
      "|   |   |   |   |--- Potential >  71.50\n",
      "|   |   |   |   |   |--- value: 3.01M\n",
      "|   |   |   |--- Potential >  73.50\n",
      "|   |   |   |   |--- LF <= 71.50\n",
      "|   |   |   |   |   |--- value: 4.97M\n",
      "|   |   |   |   |--- LF >  71.50\n",
      "|   |   |   |   |   |--- value: 7.99M\n",
      "|   |--- Reactions >  71.50\n",
      "|   |   |--- Potential <= 81.50\n",
      "|   |   |   |--- Potential <= 75.50\n",
      "|   |   |   |   |--- Potential <= 72.50\n",
      "|   |   |   |   |   |--- value: 1.49M\n",
      "|   |   |   |   |--- Potential >  72.50\n",
      "|   |   |   |   |   |--- value: 4.15M\n",
      "|   |   |   |--- Potential >  75.50\n",
      "|   |   |   |   |--- Potential <= 78.50\n",
      "|   |   |   |   |   |--- value: 6.68M\n",
      "|   |   |   |   |--- Potential >  78.50\n",
      "|   |   |   |   |   |--- value: 9.74M\n",
      "|   |   |--- Potential >  81.50\n",
      "|   |   |   |--- CB <= 82.50\n",
      "|   |   |   |   |--- Reactions <= 78.50\n",
      "|   |   |   |   |   |--- value: 12.68M\n",
      "|   |   |   |   |--- Reactions >  78.50\n",
      "|   |   |   |   |   |--- value: 20.95M\n",
      "|   |   |   |--- CB >  82.50\n",
      "|   |   |   |   |--- Potential <= 89.50\n",
      "|   |   |   |   |   |--- value: 31.41M\n",
      "|   |   |   |   |--- Potential >  89.50\n",
      "|   |   |   |   |   |--- value: 51.29M\n",
      "|--- RAM >  77.50\n",
      "|   |--- RF <= 82.50\n",
      "|   |   |--- Potential <= 83.50\n",
      "|   |   |   |--- Potential <= 81.50\n",
      "|   |   |   |   |--- Age <= 31.50\n",
      "|   |   |   |   |   |--- value: 15.19M\n",
      "|   |   |   |   |--- Age >  31.50\n",
      "|   |   |   |   |   |--- value: 9.29M\n",
      "|   |   |   |--- Potential >  81.50\n",
      "|   |   |   |   |--- Age <= 33.00\n",
      "|   |   |   |   |   |--- value: 22.17M\n",
      "|   |   |   |   |--- Age >  33.00\n",
      "|   |   |   |   |   |--- value: 8.10M\n",
      "|   |   |--- Potential >  83.50\n",
      "|   |   |   |--- RCM <= 81.50\n",
      "|   |   |   |   |--- LF <= 80.50\n",
      "|   |   |   |   |   |--- value: 25.39M\n",
      "|   |   |   |   |--- LF >  80.50\n",
      "|   |   |   |   |   |--- value: 36.06M\n",
      "|   |   |   |--- RCM >  81.50\n",
      "|   |   |   |   |--- Potential <= 88.50\n",
      "|   |   |   |   |   |--- value: 36.50M\n",
      "|   |   |   |   |--- Potential >  88.50\n",
      "|   |   |   |   |   |--- value: 53.86M\n",
      "|   |--- RF >  82.50\n",
      "|   |   |--- LW <= 86.50\n",
      "|   |   |   |--- Potential <= 87.50\n",
      "|   |   |   |   |--- RB <= 57.50\n",
      "|   |   |   |   |   |--- value: 22.75M\n",
      "|   |   |   |   |--- RB >  57.50\n",
      "|   |   |   |   |   |--- value: 45.28M\n",
      "|   |   |   |--- Potential >  87.50\n",
      "|   |   |   |   |--- SprintSpeed <= 78.50\n",
      "|   |   |   |   |   |--- value: 71.56M\n",
      "|   |   |   |   |--- SprintSpeed >  78.50\n",
      "|   |   |   |   |   |--- value: 55.10M\n",
      "|   |   |--- LW >  86.50\n",
      "|   |   |   |--- LongPassing <= 77.50\n",
      "|   |   |   |   |--- RCB <= 49.00\n",
      "|   |   |   |   |   |--- value: 89.00M\n",
      "|   |   |   |   |--- RCB >  49.00\n",
      "|   |   |   |   |   |--- value: 76.38M\n",
      "|   |   |   |--- LongPassing >  77.50\n",
      "|   |   |   |   |--- LF <= 88.50\n",
      "|   |   |   |   |   |--- value: 97.50M\n",
      "|   |   |   |   |--- LF >  88.50\n",
      "|   |   |   |   |   |--- value: 114.50M\n",
      "\n"
     ]
    }
   ],
   "execution_count": 136
  },
  {
   "metadata": {
    "ExecuteTime": {
     "end_time": "2024-05-29T23:32:07.824381Z",
     "start_time": "2024-05-29T23:32:07.806247Z"
    }
   },
   "cell_type": "code",
   "source": "from sklearn.svm import SVR",
   "id": "78bac1ab8db4dacf",
   "outputs": [],
   "execution_count": 147
  },
  {
   "metadata": {
    "ExecuteTime": {
     "end_time": "2024-05-29T23:35:21.720387Z",
     "start_time": "2024-05-29T23:32:12.005385Z"
    }
   },
   "cell_type": "code",
   "source": "fit_model(lambda: SVR())",
   "id": "86d3238eb38956c9",
   "outputs": [
    {
     "data": {
      "text/plain": [
       "0.15789649945021123"
      ]
     },
     "execution_count": 148,
     "metadata": {},
     "output_type": "execute_result"
    }
   ],
   "execution_count": 148
  },
  {
   "metadata": {
    "ExecuteTime": {
     "end_time": "2024-05-29T23:43:14.906168Z",
     "start_time": "2024-05-29T23:42:52.630730Z"
    }
   },
   "cell_type": "code",
   "source": [
    "svr = SVR()\n",
    "svr.fit(X, y)"
   ],
   "id": "d67042cd261410bc",
   "outputs": [
    {
     "data": {
      "text/plain": [
       "SVR()"
      ],
      "text/html": [
       "<style>#sk-container-id-9 {\n",
       "  /* Definition of color scheme common for light and dark mode */\n",
       "  --sklearn-color-text: black;\n",
       "  --sklearn-color-line: gray;\n",
       "  /* Definition of color scheme for unfitted estimators */\n",
       "  --sklearn-color-unfitted-level-0: #fff5e6;\n",
       "  --sklearn-color-unfitted-level-1: #f6e4d2;\n",
       "  --sklearn-color-unfitted-level-2: #ffe0b3;\n",
       "  --sklearn-color-unfitted-level-3: chocolate;\n",
       "  /* Definition of color scheme for fitted estimators */\n",
       "  --sklearn-color-fitted-level-0: #f0f8ff;\n",
       "  --sklearn-color-fitted-level-1: #d4ebff;\n",
       "  --sklearn-color-fitted-level-2: #b3dbfd;\n",
       "  --sklearn-color-fitted-level-3: cornflowerblue;\n",
       "\n",
       "  /* Specific color for light theme */\n",
       "  --sklearn-color-text-on-default-background: var(--sg-text-color, var(--theme-code-foreground, var(--jp-content-font-color1, black)));\n",
       "  --sklearn-color-background: var(--sg-background-color, var(--theme-background, var(--jp-layout-color0, white)));\n",
       "  --sklearn-color-border-box: var(--sg-text-color, var(--theme-code-foreground, var(--jp-content-font-color1, black)));\n",
       "  --sklearn-color-icon: #696969;\n",
       "\n",
       "  @media (prefers-color-scheme: dark) {\n",
       "    /* Redefinition of color scheme for dark theme */\n",
       "    --sklearn-color-text-on-default-background: var(--sg-text-color, var(--theme-code-foreground, var(--jp-content-font-color1, white)));\n",
       "    --sklearn-color-background: var(--sg-background-color, var(--theme-background, var(--jp-layout-color0, #111)));\n",
       "    --sklearn-color-border-box: var(--sg-text-color, var(--theme-code-foreground, var(--jp-content-font-color1, white)));\n",
       "    --sklearn-color-icon: #878787;\n",
       "  }\n",
       "}\n",
       "\n",
       "#sk-container-id-9 {\n",
       "  color: var(--sklearn-color-text);\n",
       "}\n",
       "\n",
       "#sk-container-id-9 pre {\n",
       "  padding: 0;\n",
       "}\n",
       "\n",
       "#sk-container-id-9 input.sk-hidden--visually {\n",
       "  border: 0;\n",
       "  clip: rect(1px 1px 1px 1px);\n",
       "  clip: rect(1px, 1px, 1px, 1px);\n",
       "  height: 1px;\n",
       "  margin: -1px;\n",
       "  overflow: hidden;\n",
       "  padding: 0;\n",
       "  position: absolute;\n",
       "  width: 1px;\n",
       "}\n",
       "\n",
       "#sk-container-id-9 div.sk-dashed-wrapped {\n",
       "  border: 1px dashed var(--sklearn-color-line);\n",
       "  margin: 0 0.4em 0.5em 0.4em;\n",
       "  box-sizing: border-box;\n",
       "  padding-bottom: 0.4em;\n",
       "  background-color: var(--sklearn-color-background);\n",
       "}\n",
       "\n",
       "#sk-container-id-9 div.sk-container {\n",
       "  /* jupyter's `normalize.less` sets `[hidden] { display: none; }`\n",
       "     but bootstrap.min.css set `[hidden] { display: none !important; }`\n",
       "     so we also need the `!important` here to be able to override the\n",
       "     default hidden behavior on the sphinx rendered scikit-learn.org.\n",
       "     See: https://github.com/scikit-learn/scikit-learn/issues/21755 */\n",
       "  display: inline-block !important;\n",
       "  position: relative;\n",
       "}\n",
       "\n",
       "#sk-container-id-9 div.sk-text-repr-fallback {\n",
       "  display: none;\n",
       "}\n",
       "\n",
       "div.sk-parallel-item,\n",
       "div.sk-serial,\n",
       "div.sk-item {\n",
       "  /* draw centered vertical line to link estimators */\n",
       "  background-image: linear-gradient(var(--sklearn-color-text-on-default-background), var(--sklearn-color-text-on-default-background));\n",
       "  background-size: 2px 100%;\n",
       "  background-repeat: no-repeat;\n",
       "  background-position: center center;\n",
       "}\n",
       "\n",
       "/* Parallel-specific style estimator block */\n",
       "\n",
       "#sk-container-id-9 div.sk-parallel-item::after {\n",
       "  content: \"\";\n",
       "  width: 100%;\n",
       "  border-bottom: 2px solid var(--sklearn-color-text-on-default-background);\n",
       "  flex-grow: 1;\n",
       "}\n",
       "\n",
       "#sk-container-id-9 div.sk-parallel {\n",
       "  display: flex;\n",
       "  align-items: stretch;\n",
       "  justify-content: center;\n",
       "  background-color: var(--sklearn-color-background);\n",
       "  position: relative;\n",
       "}\n",
       "\n",
       "#sk-container-id-9 div.sk-parallel-item {\n",
       "  display: flex;\n",
       "  flex-direction: column;\n",
       "}\n",
       "\n",
       "#sk-container-id-9 div.sk-parallel-item:first-child::after {\n",
       "  align-self: flex-end;\n",
       "  width: 50%;\n",
       "}\n",
       "\n",
       "#sk-container-id-9 div.sk-parallel-item:last-child::after {\n",
       "  align-self: flex-start;\n",
       "  width: 50%;\n",
       "}\n",
       "\n",
       "#sk-container-id-9 div.sk-parallel-item:only-child::after {\n",
       "  width: 0;\n",
       "}\n",
       "\n",
       "/* Serial-specific style estimator block */\n",
       "\n",
       "#sk-container-id-9 div.sk-serial {\n",
       "  display: flex;\n",
       "  flex-direction: column;\n",
       "  align-items: center;\n",
       "  background-color: var(--sklearn-color-background);\n",
       "  padding-right: 1em;\n",
       "  padding-left: 1em;\n",
       "}\n",
       "\n",
       "\n",
       "/* Toggleable style: style used for estimator/Pipeline/ColumnTransformer box that is\n",
       "clickable and can be expanded/collapsed.\n",
       "- Pipeline and ColumnTransformer use this feature and define the default style\n",
       "- Estimators will overwrite some part of the style using the `sk-estimator` class\n",
       "*/\n",
       "\n",
       "/* Pipeline and ColumnTransformer style (default) */\n",
       "\n",
       "#sk-container-id-9 div.sk-toggleable {\n",
       "  /* Default theme specific background. It is overwritten whether we have a\n",
       "  specific estimator or a Pipeline/ColumnTransformer */\n",
       "  background-color: var(--sklearn-color-background);\n",
       "}\n",
       "\n",
       "/* Toggleable label */\n",
       "#sk-container-id-9 label.sk-toggleable__label {\n",
       "  cursor: pointer;\n",
       "  display: block;\n",
       "  width: 100%;\n",
       "  margin-bottom: 0;\n",
       "  padding: 0.5em;\n",
       "  box-sizing: border-box;\n",
       "  text-align: center;\n",
       "}\n",
       "\n",
       "#sk-container-id-9 label.sk-toggleable__label-arrow:before {\n",
       "  /* Arrow on the left of the label */\n",
       "  content: \"▸\";\n",
       "  float: left;\n",
       "  margin-right: 0.25em;\n",
       "  color: var(--sklearn-color-icon);\n",
       "}\n",
       "\n",
       "#sk-container-id-9 label.sk-toggleable__label-arrow:hover:before {\n",
       "  color: var(--sklearn-color-text);\n",
       "}\n",
       "\n",
       "/* Toggleable content - dropdown */\n",
       "\n",
       "#sk-container-id-9 div.sk-toggleable__content {\n",
       "  max-height: 0;\n",
       "  max-width: 0;\n",
       "  overflow: hidden;\n",
       "  text-align: left;\n",
       "  /* unfitted */\n",
       "  background-color: var(--sklearn-color-unfitted-level-0);\n",
       "}\n",
       "\n",
       "#sk-container-id-9 div.sk-toggleable__content.fitted {\n",
       "  /* fitted */\n",
       "  background-color: var(--sklearn-color-fitted-level-0);\n",
       "}\n",
       "\n",
       "#sk-container-id-9 div.sk-toggleable__content pre {\n",
       "  margin: 0.2em;\n",
       "  border-radius: 0.25em;\n",
       "  color: var(--sklearn-color-text);\n",
       "  /* unfitted */\n",
       "  background-color: var(--sklearn-color-unfitted-level-0);\n",
       "}\n",
       "\n",
       "#sk-container-id-9 div.sk-toggleable__content.fitted pre {\n",
       "  /* unfitted */\n",
       "  background-color: var(--sklearn-color-fitted-level-0);\n",
       "}\n",
       "\n",
       "#sk-container-id-9 input.sk-toggleable__control:checked~div.sk-toggleable__content {\n",
       "  /* Expand drop-down */\n",
       "  max-height: 200px;\n",
       "  max-width: 100%;\n",
       "  overflow: auto;\n",
       "}\n",
       "\n",
       "#sk-container-id-9 input.sk-toggleable__control:checked~label.sk-toggleable__label-arrow:before {\n",
       "  content: \"▾\";\n",
       "}\n",
       "\n",
       "/* Pipeline/ColumnTransformer-specific style */\n",
       "\n",
       "#sk-container-id-9 div.sk-label input.sk-toggleable__control:checked~label.sk-toggleable__label {\n",
       "  color: var(--sklearn-color-text);\n",
       "  background-color: var(--sklearn-color-unfitted-level-2);\n",
       "}\n",
       "\n",
       "#sk-container-id-9 div.sk-label.fitted input.sk-toggleable__control:checked~label.sk-toggleable__label {\n",
       "  background-color: var(--sklearn-color-fitted-level-2);\n",
       "}\n",
       "\n",
       "/* Estimator-specific style */\n",
       "\n",
       "/* Colorize estimator box */\n",
       "#sk-container-id-9 div.sk-estimator input.sk-toggleable__control:checked~label.sk-toggleable__label {\n",
       "  /* unfitted */\n",
       "  background-color: var(--sklearn-color-unfitted-level-2);\n",
       "}\n",
       "\n",
       "#sk-container-id-9 div.sk-estimator.fitted input.sk-toggleable__control:checked~label.sk-toggleable__label {\n",
       "  /* fitted */\n",
       "  background-color: var(--sklearn-color-fitted-level-2);\n",
       "}\n",
       "\n",
       "#sk-container-id-9 div.sk-label label.sk-toggleable__label,\n",
       "#sk-container-id-9 div.sk-label label {\n",
       "  /* The background is the default theme color */\n",
       "  color: var(--sklearn-color-text-on-default-background);\n",
       "}\n",
       "\n",
       "/* On hover, darken the color of the background */\n",
       "#sk-container-id-9 div.sk-label:hover label.sk-toggleable__label {\n",
       "  color: var(--sklearn-color-text);\n",
       "  background-color: var(--sklearn-color-unfitted-level-2);\n",
       "}\n",
       "\n",
       "/* Label box, darken color on hover, fitted */\n",
       "#sk-container-id-9 div.sk-label.fitted:hover label.sk-toggleable__label.fitted {\n",
       "  color: var(--sklearn-color-text);\n",
       "  background-color: var(--sklearn-color-fitted-level-2);\n",
       "}\n",
       "\n",
       "/* Estimator label */\n",
       "\n",
       "#sk-container-id-9 div.sk-label label {\n",
       "  font-family: monospace;\n",
       "  font-weight: bold;\n",
       "  display: inline-block;\n",
       "  line-height: 1.2em;\n",
       "}\n",
       "\n",
       "#sk-container-id-9 div.sk-label-container {\n",
       "  text-align: center;\n",
       "}\n",
       "\n",
       "/* Estimator-specific */\n",
       "#sk-container-id-9 div.sk-estimator {\n",
       "  font-family: monospace;\n",
       "  border: 1px dotted var(--sklearn-color-border-box);\n",
       "  border-radius: 0.25em;\n",
       "  box-sizing: border-box;\n",
       "  margin-bottom: 0.5em;\n",
       "  /* unfitted */\n",
       "  background-color: var(--sklearn-color-unfitted-level-0);\n",
       "}\n",
       "\n",
       "#sk-container-id-9 div.sk-estimator.fitted {\n",
       "  /* fitted */\n",
       "  background-color: var(--sklearn-color-fitted-level-0);\n",
       "}\n",
       "\n",
       "/* on hover */\n",
       "#sk-container-id-9 div.sk-estimator:hover {\n",
       "  /* unfitted */\n",
       "  background-color: var(--sklearn-color-unfitted-level-2);\n",
       "}\n",
       "\n",
       "#sk-container-id-9 div.sk-estimator.fitted:hover {\n",
       "  /* fitted */\n",
       "  background-color: var(--sklearn-color-fitted-level-2);\n",
       "}\n",
       "\n",
       "/* Specification for estimator info (e.g. \"i\" and \"?\") */\n",
       "\n",
       "/* Common style for \"i\" and \"?\" */\n",
       "\n",
       ".sk-estimator-doc-link,\n",
       "a:link.sk-estimator-doc-link,\n",
       "a:visited.sk-estimator-doc-link {\n",
       "  float: right;\n",
       "  font-size: smaller;\n",
       "  line-height: 1em;\n",
       "  font-family: monospace;\n",
       "  background-color: var(--sklearn-color-background);\n",
       "  border-radius: 1em;\n",
       "  height: 1em;\n",
       "  width: 1em;\n",
       "  text-decoration: none !important;\n",
       "  margin-left: 1ex;\n",
       "  /* unfitted */\n",
       "  border: var(--sklearn-color-unfitted-level-1) 1pt solid;\n",
       "  color: var(--sklearn-color-unfitted-level-1);\n",
       "}\n",
       "\n",
       ".sk-estimator-doc-link.fitted,\n",
       "a:link.sk-estimator-doc-link.fitted,\n",
       "a:visited.sk-estimator-doc-link.fitted {\n",
       "  /* fitted */\n",
       "  border: var(--sklearn-color-fitted-level-1) 1pt solid;\n",
       "  color: var(--sklearn-color-fitted-level-1);\n",
       "}\n",
       "\n",
       "/* On hover */\n",
       "div.sk-estimator:hover .sk-estimator-doc-link:hover,\n",
       ".sk-estimator-doc-link:hover,\n",
       "div.sk-label-container:hover .sk-estimator-doc-link:hover,\n",
       ".sk-estimator-doc-link:hover {\n",
       "  /* unfitted */\n",
       "  background-color: var(--sklearn-color-unfitted-level-3);\n",
       "  color: var(--sklearn-color-background);\n",
       "  text-decoration: none;\n",
       "}\n",
       "\n",
       "div.sk-estimator.fitted:hover .sk-estimator-doc-link.fitted:hover,\n",
       ".sk-estimator-doc-link.fitted:hover,\n",
       "div.sk-label-container:hover .sk-estimator-doc-link.fitted:hover,\n",
       ".sk-estimator-doc-link.fitted:hover {\n",
       "  /* fitted */\n",
       "  background-color: var(--sklearn-color-fitted-level-3);\n",
       "  color: var(--sklearn-color-background);\n",
       "  text-decoration: none;\n",
       "}\n",
       "\n",
       "/* Span, style for the box shown on hovering the info icon */\n",
       ".sk-estimator-doc-link span {\n",
       "  display: none;\n",
       "  z-index: 9999;\n",
       "  position: relative;\n",
       "  font-weight: normal;\n",
       "  right: .2ex;\n",
       "  padding: .5ex;\n",
       "  margin: .5ex;\n",
       "  width: min-content;\n",
       "  min-width: 20ex;\n",
       "  max-width: 50ex;\n",
       "  color: var(--sklearn-color-text);\n",
       "  box-shadow: 2pt 2pt 4pt #999;\n",
       "  /* unfitted */\n",
       "  background: var(--sklearn-color-unfitted-level-0);\n",
       "  border: .5pt solid var(--sklearn-color-unfitted-level-3);\n",
       "}\n",
       "\n",
       ".sk-estimator-doc-link.fitted span {\n",
       "  /* fitted */\n",
       "  background: var(--sklearn-color-fitted-level-0);\n",
       "  border: var(--sklearn-color-fitted-level-3);\n",
       "}\n",
       "\n",
       ".sk-estimator-doc-link:hover span {\n",
       "  display: block;\n",
       "}\n",
       "\n",
       "/* \"?\"-specific style due to the `<a>` HTML tag */\n",
       "\n",
       "#sk-container-id-9 a.estimator_doc_link {\n",
       "  float: right;\n",
       "  font-size: 1rem;\n",
       "  line-height: 1em;\n",
       "  font-family: monospace;\n",
       "  background-color: var(--sklearn-color-background);\n",
       "  border-radius: 1rem;\n",
       "  height: 1rem;\n",
       "  width: 1rem;\n",
       "  text-decoration: none;\n",
       "  /* unfitted */\n",
       "  color: var(--sklearn-color-unfitted-level-1);\n",
       "  border: var(--sklearn-color-unfitted-level-1) 1pt solid;\n",
       "}\n",
       "\n",
       "#sk-container-id-9 a.estimator_doc_link.fitted {\n",
       "  /* fitted */\n",
       "  border: var(--sklearn-color-fitted-level-1) 1pt solid;\n",
       "  color: var(--sklearn-color-fitted-level-1);\n",
       "}\n",
       "\n",
       "/* On hover */\n",
       "#sk-container-id-9 a.estimator_doc_link:hover {\n",
       "  /* unfitted */\n",
       "  background-color: var(--sklearn-color-unfitted-level-3);\n",
       "  color: var(--sklearn-color-background);\n",
       "  text-decoration: none;\n",
       "}\n",
       "\n",
       "#sk-container-id-9 a.estimator_doc_link.fitted:hover {\n",
       "  /* fitted */\n",
       "  background-color: var(--sklearn-color-fitted-level-3);\n",
       "}\n",
       "</style><div id=\"sk-container-id-9\" class=\"sk-top-container\"><div class=\"sk-text-repr-fallback\"><pre>SVR()</pre><b>In a Jupyter environment, please rerun this cell to show the HTML representation or trust the notebook. <br />On GitHub, the HTML representation is unable to render, please try loading this page with nbviewer.org.</b></div><div class=\"sk-container\" hidden><div class=\"sk-item\"><div class=\"sk-estimator fitted sk-toggleable\"><input class=\"sk-toggleable__control sk-hidden--visually\" id=\"sk-estimator-id-9\" type=\"checkbox\" checked><label for=\"sk-estimator-id-9\" class=\"sk-toggleable__label fitted sk-toggleable__label-arrow fitted\">&nbsp;&nbsp;SVR<a class=\"sk-estimator-doc-link fitted\" rel=\"noreferrer\" target=\"_blank\" href=\"https://scikit-learn.org/1.5/modules/generated/sklearn.svm.SVR.html\">?<span>Documentation for SVR</span></a><span class=\"sk-estimator-doc-link fitted\">i<span>Fitted</span></span></label><div class=\"sk-toggleable__content fitted\"><pre>SVR()</pre></div> </div></div></div></div>"
      ]
     },
     "execution_count": 150,
     "metadata": {},
     "output_type": "execute_result"
    }
   ],
   "execution_count": 150
  },
  {
   "metadata": {
    "ExecuteTime": {
     "end_time": "2024-05-29T23:43:14.945040Z",
     "start_time": "2024-05-29T23:43:14.908158Z"
    }
   },
   "cell_type": "code",
   "source": "svr.coef_\n",
   "id": "c67d8b42ad22f4a7",
   "outputs": [
    {
     "ename": "AttributeError",
     "evalue": "coef_ is only available when using a linear kernel",
     "output_type": "error",
     "traceback": [
      "\u001B[0;31m---------------------------------------------------------------------------\u001B[0m",
      "\u001B[0;31mAttributeError\u001B[0m                            Traceback (most recent call last)",
      "Cell \u001B[0;32mIn[151], line 1\u001B[0m\n\u001B[0;32m----> 1\u001B[0m \u001B[43msvr\u001B[49m\u001B[38;5;241;43m.\u001B[39;49m\u001B[43mcoef_\u001B[49m\n",
      "File \u001B[0;32m~/pyevs/mint11/lib/python3.11/site-packages/sklearn/svm/_base.py:651\u001B[0m, in \u001B[0;36mBaseLibSVM.coef_\u001B[0;34m(self)\u001B[0m\n\u001B[1;32m    644\u001B[0m \u001B[38;5;250m\u001B[39m\u001B[38;5;124;03m\"\"\"Weights assigned to the features when `kernel=\"linear\"`.\u001B[39;00m\n\u001B[1;32m    645\u001B[0m \n\u001B[1;32m    646\u001B[0m \u001B[38;5;124;03mReturns\u001B[39;00m\n\u001B[1;32m    647\u001B[0m \u001B[38;5;124;03m-------\u001B[39;00m\n\u001B[1;32m    648\u001B[0m \u001B[38;5;124;03mndarray of shape (n_features, n_classes)\u001B[39;00m\n\u001B[1;32m    649\u001B[0m \u001B[38;5;124;03m\"\"\"\u001B[39;00m\n\u001B[1;32m    650\u001B[0m \u001B[38;5;28;01mif\u001B[39;00m \u001B[38;5;28mself\u001B[39m\u001B[38;5;241m.\u001B[39mkernel \u001B[38;5;241m!=\u001B[39m \u001B[38;5;124m\"\u001B[39m\u001B[38;5;124mlinear\u001B[39m\u001B[38;5;124m\"\u001B[39m:\n\u001B[0;32m--> 651\u001B[0m     \u001B[38;5;28;01mraise\u001B[39;00m \u001B[38;5;167;01mAttributeError\u001B[39;00m(\u001B[38;5;124m\"\u001B[39m\u001B[38;5;124mcoef_ is only available when using a linear kernel\u001B[39m\u001B[38;5;124m\"\u001B[39m)\n\u001B[1;32m    653\u001B[0m coef \u001B[38;5;241m=\u001B[39m \u001B[38;5;28mself\u001B[39m\u001B[38;5;241m.\u001B[39m_get_coef()\n\u001B[1;32m    655\u001B[0m \u001B[38;5;66;03m# coef_ being a read-only property, it's better to mark the value as\u001B[39;00m\n\u001B[1;32m    656\u001B[0m \u001B[38;5;66;03m# immutable to avoid hiding potential bugs for the unsuspecting user.\u001B[39;00m\n",
      "\u001B[0;31mAttributeError\u001B[0m: coef_ is only available when using a linear kernel"
     ]
    }
   ],
   "execution_count": 151
  },
  {
   "metadata": {
    "ExecuteTime": {
     "end_time": "2024-05-29T23:45:42.459912Z",
     "start_time": "2024-05-29T23:45:42.434428Z"
    }
   },
   "cell_type": "code",
   "source": "",
   "id": "8099ac59b30942bc",
   "outputs": [
    {
     "data": {
      "text/plain": [
       "{'C': 1.0,\n",
       " 'cache_size': 200,\n",
       " 'coef0': 0.0,\n",
       " 'degree': 3,\n",
       " 'epsilon': 0.1,\n",
       " 'gamma': 'scale',\n",
       " 'kernel': 'rbf',\n",
       " 'max_iter': -1,\n",
       " 'shrinking': True,\n",
       " 'tol': 0.001,\n",
       " 'verbose': False}"
      ]
     },
     "execution_count": 154,
     "metadata": {},
     "output_type": "execute_result"
    }
   ],
   "execution_count": 154
  },
  {
   "metadata": {},
   "cell_type": "code",
   "outputs": [],
   "execution_count": null,
   "source": "",
   "id": "9f35de59d7265144"
  }
 ],
 "metadata": {
  "kernelspec": {
   "display_name": "Python 3",
   "language": "python",
   "name": "python3"
  },
  "language_info": {
   "codemirror_mode": {
    "name": "ipython",
    "version": 2
   },
   "file_extension": ".py",
   "mimetype": "text/x-python",
   "name": "python",
   "nbconvert_exporter": "python",
   "pygments_lexer": "ipython2",
   "version": "2.7.6"
  }
 },
 "nbformat": 4,
 "nbformat_minor": 5
}
