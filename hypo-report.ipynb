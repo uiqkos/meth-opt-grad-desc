{
 "cells": [
  {
   "cell_type": "code",
   "execution_count": 60,
   "id": "initial_id",
   "metadata": {
    "collapsed": true,
    "ExecuteTime": {
     "end_time": "2024-03-20T19:20:56.068527Z",
     "start_time": "2024-03-20T19:20:56.053735Z"
    }
   },
   "source": [
    "from itertools import product\n",
    "\n",
    "import pandas as pd\n",
    "import numpy as np\n",
    "import sympy\n",
    "from tqdm import tqdm\n",
    "from utils import R2_derivatives, gen_func, plot_func\n",
    "\n",
    "from main import gradient_descend, dichotomy_method, derivative, constant_rate, scipy_nelder_mead"
   ],
   "outputs": []
  },
  {
   "cell_type": "code",
   "source": [
    "%load_ext autoreload\n",
    "%autoreload 2"
   ],
   "metadata": {
    "collapsed": false,
    "ExecuteTime": {
     "end_time": "2024-03-20T19:02:36.192452Z",
     "start_time": "2024-03-20T19:02:36.176835Z"
    }
   },
   "id": "6739a4d70ab5f811",
   "execution_count": 2,
   "outputs": []
  },
  {
   "cell_type": "markdown",
   "source": [
    "# Гипотеза 1: Градиентный спуск с constant_rate реже вызывает таргетную функцию "
   ],
   "metadata": {
    "collapsed": false
   },
   "id": "10cf5e0d506abda3"
  },
  {
   "cell_type": "code",
   "source": [
    "from functools import wraps\n",
    "\n",
    "def call_counter(f):\n",
    "    @wraps(f)\n",
    "    def wrapper(*args, **kwargs):\n",
    "        wrapper.calls += 1\n",
    "        return f(*args, **kwargs)\n",
    "    \n",
    "    wrapper.calls = 0\n",
    "    \n",
    "    return wrapper\n",
    "    \n"
   ],
   "metadata": {
    "collapsed": false,
    "ExecuteTime": {
     "end_time": "2024-03-20T19:03:00.686990Z",
     "start_time": "2024-03-20T19:03:00.669366Z"
    }
   },
   "id": "fae042aa69aae6f2",
   "execution_count": 4,
   "outputs": []
  },
  {
   "cell_type": "code",
   "source": [
    "coefs = {'x^2': 0.1, 'y^2': 0.1}\n",
    "f = gen_func(coefs)\n",
    "\n",
    "for lr in [constant_rate(0.1), dichotomy_method(0.1)]:\n",
    "    df1 = [call_counter(d) for d in R2_derivatives(coefs)]\n",
    "    f1 = call_counter(f)\n",
    "    \n",
    "    res = gradient_descend(\n",
    "        f1, \n",
    "        derivatives=df1,\n",
    "        learning_rate_function=lr,\n",
    "        start=np.array([1, 1]),\n",
    "        max_iter=2000\n",
    "    )\n",
    "    \n",
    "    print(lr.__name__, ':', '\\n end_point:', res.result, '\\n calls:', f1.calls, '\\n derivative_calls:', sum(d.calls for d in df1), '\\n')"
   ],
   "metadata": {
    "collapsed": false,
    "ExecuteTime": {
     "end_time": "2024-03-20T20:00:54.711692Z",
     "start_time": "2024-03-20T20:00:54.633497Z"
    }
   },
   "id": "b5d04a127161b0e9",
   "execution_count": 105,
   "outputs": []
  },
  {
   "cell_type": "code",
   "source": [
    "(plot_func(f,res.path).show())"
   ],
   "metadata": {
    "collapsed": false,
    "ExecuteTime": {
     "end_time": "2024-03-20T19:53:37.374548Z",
     "start_time": "2024-03-20T19:53:37.252736Z"
    }
   },
   "id": "e66e4336c6ad807",
   "execution_count": 104,
   "outputs": []
  },
  {
   "cell_type": "code",
   "source": [
    "f(np.array([5, 5]))"
   ],
   "metadata": {
    "collapsed": false,
    "ExecuteTime": {
     "end_time": "2024-03-20T19:34:32.197892Z",
     "start_time": "2024-03-20T19:34:32.101407Z"
    }
   },
   "id": "dfb73e7e7c3cc4eb",
   "execution_count": 81,
   "outputs": []
  },
  {
   "cell_type": "code",
   "source": [
    "res.path[:, 0].max()"
   ],
   "metadata": {
    "collapsed": false,
    "ExecuteTime": {
     "end_time": "2024-03-20T19:38:21.226012Z",
     "start_time": "2024-03-20T19:38:21.194938Z"
    }
   },
   "id": "5d00daa68e1e6121",
   "execution_count": 91,
   "outputs": []
  },
  {
   "cell_type": "code",
   "source": [
    "coefs = {'x^2': 100, 'y^2': 0.1}\n",
    "f = gen_func(coefs)\n",
    "\n",
    "for lr in [constant_rate(0.1), dichotomy_method(0.1)]:\n",
    "    res = gradient_descend(\n",
    "        f, \n",
    "        derivatives=R2_derivatives(coefs),\n",
    "        learning_rate_function=lr,\n",
    "        start=np.array([1, 1]),\n",
    "        max_iter=2000\n",
    "    )\n",
    "    \n",
    "    print(lr.__name__, ':', '\\n end_point:', res.result, '\\n calls:', f1.calls, '\\n derivative_calls:', sum(d.calls for d in df1), '\\n')"
   ],
   "metadata": {
    "collapsed": false,
    "ExecuteTime": {
     "end_time": "2024-03-20T20:33:04.117489Z",
     "start_time": "2024-03-20T20:33:04.044585Z"
    }
   },
   "id": "42da6239523e0f37",
   "execution_count": 109,
   "outputs": []
  },
  {
   "cell_type": "code",
   "source": [
    "scipy_nelder_mead(gen_func({'x^2': 1000, 'y^2': 0.1}), np.array([1, 1]))"
   ],
   "metadata": {
    "collapsed": false,
    "ExecuteTime": {
     "end_time": "2024-03-20T20:32:52.688377Z",
     "start_time": "2024-03-20T20:32:52.613286Z"
    }
   },
   "id": "c24ba54f033ffbb7",
   "execution_count": 108,
   "outputs": []
  },
  {
   "cell_type": "code",
   "source": [],
   "metadata": {
    "collapsed": false,
    "ExecuteTime": {
     "end_time": "2024-03-20T20:42:16.971873Z",
     "start_time": "2024-03-20T20:42:16.970276Z"
    }
   },
   "id": "74c90f8ae2cececd",
   "execution_count": 109,
   "outputs": []
  }
 ],
 "metadata": {
  "kernelspec": {
   "display_name": "Python 3",
   "language": "python",
   "name": "python3"
  },
  "language_info": {
   "codemirror_mode": {
    "name": "ipython",
    "version": 2
   },
   "file_extension": ".py",
   "mimetype": "text/x-python",
   "name": "python",
   "nbconvert_exporter": "python",
   "pygments_lexer": "ipython2",
   "version": "2.7.6"
  }
 },
 "nbformat": 4,
 "nbformat_minor": 5
}
