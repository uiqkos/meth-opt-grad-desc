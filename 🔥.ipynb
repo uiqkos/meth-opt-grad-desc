{
 "cells": [
  {
   "cell_type": "code",
   "execution_count": 9,
   "metadata": {},
   "outputs": [],
   "source": [
    "from main import gradient_descend_vec_derivs\n",
    "from collections.optional import Optional\n",
    "from math import abs, sqrt\n",
    "from python import Python\n",
    "from tensor import Tensor, Index\n"
   ]
  },
  {
   "cell_type": "code",
   "execution_count": 10,
   "metadata": {},
   "outputs": [
    {
     "name": "stdout",
     "output_type": "stream",
     "text": [
      "396\n"
     ]
    }
   ],
   "source": [
    "\n",
    "fn f(x: SIMD[DType.float64, 2]) -> Float64:\n",
    "    return (x ** 2).reduce_add()\n",
    "\n",
    "fn df(x: SIMD[DType.float64, 2]) -> SIMD[DType.float64, 2]:\n",
    "    return 2 * x\n",
    "\n",
    "var path = gradient_descend_vec_derivs(\n",
    "    f,\n",
    "    derivatives = df,\n",
    "    start = SIMD[DType.float64, 2](10, 10),\n",
    "    learning_rate = 0.01,\n",
    "    max_iter = 1000,\n",
    "    stop_function_delta = Optional[Float64](1e-6),\n",
    ")\n",
    "\n",
    "print(len(path))"
   ]
  },
  {
   "cell_type": "code",
   "execution_count": 11,
   "metadata": {},
   "outputs": [],
   "source": [
    "var path_size: Int = len(path)\n",
    "var path_tensor = Tensor[DType.float64](path_size, 2)\n",
    "\n",
    "for i in range(path_size):\n",
    "    path_tensor[i][0] = path[i][0]\n",
    "    path_tensor[i][1] = path[i][1]\n"
   ]
  },
  {
   "cell_type": "code",
   "execution_count": 12,
   "metadata": {},
   "outputs": [
    {
     "name": "stdout",
     "output_type": "stream",
     "text": [
      "Tensor([[10.0, 9.8000000000000007],\n",
      "[9.604000000000001, 9.4119200000000003],\n",
      "[9.2236816000000008, 9.0392079680000013],\n",
      "..., \n",
      "[0.0, 0.0],\n",
      "[0.0, 0.0],\n",
      "[0.0, 0.0]], dtype=float64, shape=396x2)\n"
     ]
    }
   ],
   "source": [
    "print(path_tensor)"
   ]
  },
  {
   "cell_type": "code",
   "execution_count": 12,
   "metadata": {},
   "outputs": [
    {
     "name": "stderr",
     "output_type": "stream",
     "text": [
      "error: \u001b[0;1;31m\u001b[1mExpression [12]:24:25: \u001b[0m\u001b[1minvalid call to '__call__': unknown keyword arguments: 'colorscale', 'opacity', 'x', 'y', 'z'\n",
      "\u001b[0m    surface = go.Surface(x=X, y=Y, z=Z, colorscale='Viridis', opacity=0.7)\n",
      "\u001b[0;1;32m              ~~~~~~~~~~^~~~~~~~~~~~~~~~~~~~~~~~~~~~~~~~~~~~~~~~~~~~~~~~~~\n",
      "\u001b[0m\u001b[0m\n",
      "\u001b[0;1;30m\u001b[1mExpression [0] wrapper:16:5: \u001b[0m\u001b[1mfunction declared here\n",
      "\u001b[0m    var __lldb_repl_python__ = __mojo_repl_Python()\n",
      "\u001b[0;1;32m    ^\n",
      "\u001b[0m\u001b[0m\n",
      "error: \u001b[0;1;31m\u001b[1mExpression [12]:27:22: \u001b[0m\u001b[1muse of unknown declaration 'zip'\n",
      "\u001b[0m    path_x, path_y = zip(*path)\n",
      "\u001b[0;1;32m                     ^~~\n",
      "\u001b[0m\u001b[0m\n",
      "error: \u001b[0;1;31m\u001b[1mExpression [12]:28:23: \u001b[0m\u001b[1mexpected ']' in list expression\n",
      "\u001b[0m    path_z = [f(x, y) for x, y in path]\n",
      "\u001b[0;1;32m                      ^\n",
      "\u001b[0m\u001b[0m\n",
      "expression failed to parse (no further compiler diagnostics)"
     ]
    }
   ],
   "source": [
    "def plot_function_and_path(path: Tensor[DType.float64]):\n",
    "    \"\"\"\n",
    "    Визуализирует функцию f и путь градиентного спуска на 3D графике с использованием Plotly.\n",
    "\n",
    "    Параметры:\n",
    "    - f: функция двух переменных для визуализации.\n",
    "    - path: список координат (x, y), представляющий путь градиентного спуска.\n",
    "    \"\"\"\n",
    "\n",
    "    plotly = Python.import_module('plotly')\n",
    "    np = Python.import_module('numpy')\n",
    "    go = plotly.graph_objs\n",
    "\n",
    "    # Генерируем данные для поверхности функции\n",
    "    var x = np.linspace(-5, 5, 50)\n",
    "    var y = np.linspace(-5, 5, 50)\n",
    "    var m = np.meshgrid(x, y)\n",
    "    var X = m[0]\n",
    "    var Y = m[1]\n",
    "    \n",
    "    var Z = X ** 2 + Y ** 2\n",
    "\n",
    "    # Создаем поверхность функции\n",
    "    surface = go.Surface(X, Y, Z)\n",
    "\n",
    "    # Путь градиентного спуска\n",
    "    # path_x, path_y = zip(*path)\n",
    "    # path_z = [f(x, y) for x, y in path]\n",
    "\n",
    "    var path_x = \n",
    "\n",
    "    path_trace = go.Scatter3d(x=path_x, y=path_y, z=path_z,\n",
    "                            #   marker=dict(size=5, color='red'),\n",
    "                            #   line=dict(color='red', width=2)\n",
    "                              )\n",
    "\n",
    "    # Настройки макета графика\n",
    "    layout = go.Layout(\n",
    "        title=\"3D Visualization of Function and Gradient Descent Path\",\n",
    "        scene=dict(\n",
    "            xaxis_title='X',\n",
    "            yaxis_title='Y',\n",
    "            zaxis_title='Z'\n",
    "        )\n",
    "    )\n",
    "    \n",
    "    # Собираем данные и создаем фигуру\n",
    "    fig = go.Figure(data=[surface, path_trace], layout=layout)\n",
    "\n",
    "    # Отображаем график\n",
    "    fig.show()\n",
    "\n",
    "# Пример функции и пу\n"
   ]
  },
  {
   "cell_type": "code",
   "execution_count": null,
   "metadata": {},
   "outputs": [],
   "source": []
  }
 ],
 "metadata": {
  "kernelspec": {
   "display_name": "Mojo",
   "language": "mojo",
   "name": "mojo-jupyter-kernel"
  },
  "language_info": {
   "codemirror_mode": {
    "name": "mojo"
   },
   "file_extension": ".mojo",
   "mimetype": "text/x-mojo",
   "name": "mojo"
  }
 },
 "nbformat": 4,
 "nbformat_minor": 2
}
