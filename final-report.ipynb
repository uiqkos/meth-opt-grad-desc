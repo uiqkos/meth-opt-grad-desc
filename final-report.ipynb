{
 "cells": [
  {
   "cell_type": "code",
   "id": "initial_id",
   "metadata": {
    "collapsed": true,
    "ExecuteTime": {
     "end_time": "2024-05-18T10:49:22.274518Z",
     "start_time": "2024-05-18T10:49:22.259708Z"
    }
   },
   "source": [
    "import inspect\n",
    "\n",
    "import numpy as np\n",
    "import pandas as pd\n",
    "import scipy.optimize\n",
    "import sympy\n",
    "\n",
    "from nelder import scipy_nelder_mead\n",
    "from utils import R2_derivatives, gen_func, plot_func, call_counter, plot_func_with_path_matplotlib, plot_2d_with_color, \\\n",
    "    plot_2d_and_3d_side_by_side"
   ],
   "execution_count": 21,
   "outputs": []
  },
  {
   "cell_type": "code",
   "source": [
    "%load_ext autoreload\n",
    "%autoreload 2"
   ],
   "metadata": {
    "collapsed": false,
    "ExecuteTime": {
     "end_time": "2024-05-18T10:49:22.497036Z",
     "start_time": "2024-05-18T10:49:22.483370Z"
    }
   },
   "id": "5400bdfe7963eca0",
   "execution_count": 22,
   "outputs": []
  },
  {
   "cell_type": "code",
   "source": [
    "from functools import wraps\n",
    "\n",
    "\n",
    "def with_noise(func):\n",
    "    @wraps(func)\n",
    "    def new_func(x):\n",
    "        return func(x) + np.random.normal(0, 0.001) \n",
    "    return new_func"
   ],
   "metadata": {
    "collapsed": false,
    "ExecuteTime": {
     "end_time": "2024-05-18T10:49:22.726041Z",
     "start_time": "2024-05-18T10:49:22.714084Z"
    }
   },
   "id": "719be4d51e77adfe",
   "execution_count": 23,
   "outputs": []
  },
  {
   "cell_type": "code",
   "source": [
    "func_coefs = [\n",
    "    {'x^2': 0.1, 'y^2': 0.2},\n",
    "    {'y^2': 1, 'x^2': 0.0031},\n",
    "    {'x^2': 0.1, 'y^2': 0.1, 'xy': -0.3},\n",
    "    # {'x^2': 0.0001, 'y^2': 0.0001},\n",
    "]\n",
    "funcs = [with_noise(gen_func(coefs)) for coefs in func_coefs]"
   ],
   "metadata": {
    "collapsed": false,
    "ExecuteTime": {
     "end_time": "2024-05-18T10:49:22.967815Z",
     "start_time": "2024-05-18T10:49:22.952017Z"
    }
   },
   "id": "368758e020b1036",
   "execution_count": 24,
   "outputs": []
  },
  {
   "cell_type": "code",
   "source": [
    "# for func in funcs:\n",
    "#     plot_func(func).show()"
   ],
   "metadata": {
    "collapsed": false,
    "ExecuteTime": {
     "end_time": "2024-05-18T10:49:23.199180Z",
     "start_time": "2024-05-18T10:49:23.185987Z"
    }
   },
   "id": "c921a85d1296fd6d",
   "execution_count": 25,
   "outputs": []
  },
  {
   "cell_type": "code",
   "source": [
    "from typing import Optional\n",
    "from dataclasses import dataclass\n",
    "\n",
    "\n",
    "@dataclass\n",
    "class OptimizationResult:\n",
    "    minimum: np.ndarray\n",
    "    iterations: int\n",
    "    path: Optional[np.ndarray] = None\n",
    "    simplexes: Optional[list[np.ndarray]] = None\n",
    "    "
   ],
   "metadata": {
    "collapsed": false,
    "ExecuteTime": {
     "end_time": "2024-05-18T10:49:23.427367Z",
     "start_time": "2024-05-18T10:49:23.413126Z"
    }
   },
   "id": "9cd9e3dcbf0e3c9b",
   "execution_count": 26,
   "outputs": []
  },
  {
   "cell_type": "code",
   "source": [
    "def gradient_descend_constant_rate(start, dfs, f) -> OptimizationResult:\n",
    "    res = gradient_descend(f, dfs, start, constant_rate(0.05), 1000, stop_point_delta=1e-6)\n",
    "    return OptimizationResult(res.path[-1], res.iterations, res.path)\n",
    "\n",
    "def gradient_descend_dichotomy(start, dfs, f) -> OptimizationResult:\n",
    "    res = gradient_descend(f, dfs, start, dichotomy_method(0.05), 1000, stop_point_delta=1e-6)\n",
    "    return OptimizationResult(res.path[-1], res.iterations, res.path)\n",
    "\n",
    "def gradient_descend_golden_ratio(start, dfs, f) -> OptimizationResult:\n",
    "    res = gradient_descend(f, dfs, start, golden_ratio_method(0.05), 1000, stop_point_delta=1e-6)\n",
    "    return OptimizationResult(res.path[-1], res.iterations, res.path)\n",
    "\n",
    "def scipy_nelder_mead_(start, dfs, f) -> OptimizationResult:\n",
    "    path = []\n",
    "    def callback(intermediate_result):\n",
    "        path.append(intermediate_result['sim'])\n",
    "    res = scipy_nelder_mead(f, start, callback=callback)\n",
    "    return OptimizationResult(res.x, res.nit, simplexes=path)\n",
    "\n",
    "methods = [\n",
    "    # gradient_descend_constant_rate,\n",
    "    # gradient_descend_dichotomy,\"\n",
    "    # gradient_descend_golden_ratio,\n",
    "    scipy_nelder_mead,\n",
    "]"
   ],
   "metadata": {
    "collapsed": false,
    "ExecuteTime": {
     "end_time": "2024-05-18T10:49:23.634937Z",
     "start_time": "2024-05-18T10:49:23.621607Z"
    }
   },
   "id": "c697debac0b3f465",
   "execution_count": 27,
   "outputs": []
  },
  {
   "cell_type": "code",
   "source": [
    "# inspect.getsource(scipy.optimize._optimize._minimize_neldermead)"
   ],
   "metadata": {
    "collapsed": false,
    "ExecuteTime": {
     "end_time": "2024-05-18T10:49:23.896855Z",
     "start_time": "2024-05-18T10:49:23.881845Z"
    }
   },
   "id": "b1506a88b2276782",
   "execution_count": 28,
   "outputs": []
  },
  {
   "cell_type": "code",
   "source": [
    "# (scipy.optimize._optimize._minimize_neldermead).co"
   ],
   "metadata": {
    "collapsed": false,
    "ExecuteTime": {
     "end_time": "2024-05-18T10:49:24.572991Z",
     "start_time": "2024-05-18T10:49:24.557193Z"
    }
   },
   "id": "9f0e665b49dbceb6",
   "execution_count": 29,
   "outputs": []
  },
  {
   "cell_type": "code",
   "source": [
    "# def add_simplex_to_intermediate_result():\n",
    "#     import scipy.optimize._optimize\n",
    "#     code = inspect.getsource(scipy.optimize._optimize._minimize_neldermead)\n",
    "#     marker = 'intermediate_result = OptimizeResult(x=sim[0], fun=fsim[0])'\n",
    "#     need_to_add = \"intermediate_result['sim'] = sim\"\n",
    "#     if need_to_add in code:\n",
    "#         return\n",
    "#     idx = code.index(marker)\n",
    "#     code = code[:idx + len(marker)] + '; ' + need_to_add + code[idx + len(marker):]\n",
    "#     exec(compile(code, '<object>', 'exec'))\n",
    "#     scipy.optimize._optimize._minimize_neldermead = locals()['_minimize_neldermead']\n",
    "#     minimize_code = inspect.getsource(scipy.optimize.minimize)    \n",
    "#     exec(compile(minimize_code, '<object>', 'exec'))\n",
    "#     scipy.optimize.minimize = locals()['minimize']"
   ],
   "metadata": {
    "collapsed": false,
    "ExecuteTime": {
     "end_time": "2024-05-18T10:49:24.785507Z",
     "start_time": "2024-05-18T10:49:24.774478Z"
    }
   },
   "id": "c1da9323848533bb",
   "execution_count": 30,
   "outputs": []
  },
  {
   "cell_type": "code",
   "source": [
    "records = []\n",
    "\n",
    "# add_simplex_to_intermediate_result()\n",
    "\n",
    "for coefs, func in zip(func_coefs, funcs):\n",
    "    dfs = R2_derivatives(coefs)\n",
    "    for start in map(np.array, [[1, 1], [10, 10], [200, 0]]):\n",
    "        for method in methods:\n",
    "            dfs_with_counter = [call_counter(d) for d in dfs]\n",
    "            func_with_counter = call_counter(func)\n",
    "            res = method(start, dfs_with_counter, func_with_counter)\n",
    "            records.append({\n",
    "                'coefs': coefs,\n",
    "                'start': start,\n",
    "                'method': method.__name__,\n",
    "                'target func calls': func_with_counter.calls,\n",
    "                'gradient func calls': tuple(d.calls for d in dfs_with_counter),\n",
    "                'minimum': res.minimum,\n",
    "                'path': res.path,\n",
    "                'iterations': res.iterations,\n",
    "            })\n",
    "            title = fr'{method.__name__} ${sympy.latex(func(sympy.symbols(\"x y\")))}$ start = {start}'\n",
    "            text = title + f'\\niterations: {res.iterations}\\n'\\\n",
    "                   f'target func calls: {func_with_counter.calls}\\n'\\\n",
    "                   f'gradient func calls: {tuple(d.calls for d in dfs_with_counter)}'\n",
    "            plot_2d_and_3d_side_by_side(\n",
    "                func, \n",
    "                res.path if res.path is not None else res.simplexes, \n",
    "                limit=max(start) * 1.5, issimplex=method == scipy_nelder_mead,\n",
    "                title=title, save=False, text=text\n",
    "            )\n",
    "            # plot_func(func, res.path).show()\n",
    "        \n",
    "        "
   ],
   "metadata": {
    "collapsed": false,
    "ExecuteTime": {
     "end_time": "2024-05-18T10:49:25.345791Z",
     "start_time": "2024-05-18T10:49:25.195806Z"
    }
   },
   "id": "a3e299c15384c213",
   "execution_count": 31,
   "outputs": []
  },
  {
   "cell_type": "code",
   "source": [
    "pd.DataFrame(records).to_csv('results1.csv')"
   ],
   "metadata": {
    "collapsed": false,
    "ExecuteTime": {
     "start_time": "2024-03-22T13:33:46.973974Z"
    }
   },
   "id": "e23a8ecb730946de",
   "execution_count": null,
   "outputs": []
  },
  {
   "cell_type": "code",
   "source": [
    "plot_func(funcs[0], records[0]['path']).write_image(f'images/{sympy.latex(funcs[0](sympy.symbols(\"x y\")))}.png')"
   ],
   "metadata": {
    "collapsed": false,
    "ExecuteTime": {
     "start_time": "2024-03-22T13:33:46.974998Z"
    }
   },
   "id": "c487301fb00504d7",
   "execution_count": null,
   "outputs": []
  },
  {
   "cell_type": "code",
   "source": [
    "plot_func_with_path_matplotlib(gen_func(records[10]['coefs']), records[10]['path'], limit=records[10]['start'].max())"
   ],
   "metadata": {
    "collapsed": false,
    "ExecuteTime": {
     "end_time": "2024-03-22T13:33:46.976493Z",
     "start_time": "2024-03-22T13:33:46.976487Z"
    }
   },
   "id": "3e9d26fa1e288ab9",
   "execution_count": null,
   "outputs": []
  },
  {
   "cell_type": "code",
   "source": [
    "plot_2d_with_color(funcs[0], records[0]['path'], limit=1.1)"
   ],
   "metadata": {
    "collapsed": false,
    "ExecuteTime": {
     "end_time": "2024-03-22T13:33:46.978598Z",
     "start_time": "2024-03-22T13:33:46.977940Z"
    }
   },
   "id": "975be335ee5e6c94",
   "execution_count": null,
   "outputs": []
  },
  {
   "cell_type": "code",
   "source": [
    "records[3]['path']"
   ],
   "metadata": {
    "collapsed": false,
    "ExecuteTime": {
     "end_time": "2024-03-22T13:33:46.979266Z",
     "start_time": "2024-03-22T13:33:46.979081Z"
    }
   },
   "id": "8c1b27dda74b8629",
   "execution_count": null,
   "outputs": []
  },
  {
   "cell_type": "code",
   "source": [],
   "metadata": {
    "collapsed": false,
    "ExecuteTime": {
     "start_time": "2024-03-22T13:33:46.979807Z"
    }
   },
   "id": "f552f5aa658e50db",
   "execution_count": null,
   "outputs": []
  },
  {
   "cell_type": "code",
   "source": [],
   "metadata": {
    "collapsed": false,
    "ExecuteTime": {
     "start_time": "2024-03-22T13:33:46.980528Z"
    }
   },
   "id": "11ee442b460f3033",
   "execution_count": null,
   "outputs": []
  },
  {
   "cell_type": "code",
   "source": [],
   "metadata": {
    "collapsed": false,
    "ExecuteTime": {
     "start_time": "2024-03-22T13:33:46.981469Z"
    }
   },
   "id": "9097ae97220b3691",
   "execution_count": null,
   "outputs": []
  }
 ],
 "metadata": {
  "kernelspec": {
   "display_name": "Python 3",
   "language": "python",
   "name": "python3"
  },
  "language_info": {
   "codemirror_mode": {
    "name": "ipython",
    "version": 2
   },
   "file_extension": ".py",
   "mimetype": "text/x-python",
   "name": "python",
   "nbconvert_exporter": "python",
   "pygments_lexer": "ipython2",
   "version": "2.7.6"
  }
 },
 "nbformat": 4,
 "nbformat_minor": 5
}
