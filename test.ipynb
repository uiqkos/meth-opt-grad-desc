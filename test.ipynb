{
 "cells": [
  {
   "cell_type": "code",
   "execution_count": 3,
   "id": "initial_id",
   "metadata": {
    "collapsed": true,
    "ExecuteTime": {
     "end_time": "2024-03-12T15:25:24.731946Z",
     "start_time": "2024-03-12T15:25:24.455095Z"
    }
   },
   "outputs": [],
   "source": [
    "import scipy as sp\n",
    "import sympy as sy"
   ]
  },
  {
   "cell_type": "code",
   "execution_count": 4,
   "outputs": [
    {
     "name": "stdout",
     "output_type": "stream",
     "text": [
      "The autoreload extension is already loaded. To reload it, use:\n",
      "  %reload_ext autoreload\n"
     ]
    }
   ],
   "source": [
    "%load_ext autoreload\n",
    "%autoreload 2"
   ],
   "metadata": {
    "collapsed": false,
    "ExecuteTime": {
     "end_time": "2024-03-12T15:25:24.746072Z",
     "start_time": "2024-03-12T15:25:24.732238Z"
    }
   },
   "id": "51dc44672cb3fcd7"
  },
  {
   "cell_type": "code",
   "execution_count": 5,
   "outputs": [],
   "source": [
    "x, y = sy.symbols('x y', real=True)\n",
    "z = x ** 2 - 1.34 * y ** 2 - 2 * y + 0.14 "
   ],
   "metadata": {
    "collapsed": false,
    "ExecuteTime": {
     "end_time": "2024-03-12T15:26:42.710056Z",
     "start_time": "2024-03-12T15:26:42.670698Z"
    }
   },
   "id": "fd9a5665ab3ebef0"
  },
  {
   "cell_type": "code",
   "execution_count": 6,
   "outputs": [
    {
     "data": {
      "text/plain": "x**2 - 1.34*y**2 - 2*y + 0.14",
      "text/latex": "$\\displaystyle x^{2} - 1.34 y^{2} - 2 y + 0.14$"
     },
     "execution_count": 6,
     "metadata": {},
     "output_type": "execute_result"
    }
   ],
   "source": [
    "z"
   ],
   "metadata": {
    "collapsed": false,
    "ExecuteTime": {
     "end_time": "2024-03-12T15:26:44.340917Z",
     "start_time": "2024-03-12T15:26:44.326866Z"
    }
   },
   "id": "da13e7d27efe9245"
  },
  {
   "cell_type": "code",
   "execution_count": 7,
   "outputs": [
    {
     "data": {
      "text/plain": "2*x",
      "text/latex": "$\\displaystyle 2 x$"
     },
     "execution_count": 7,
     "metadata": {},
     "output_type": "execute_result"
    }
   ],
   "source": [
    "z.diff(x)"
   ],
   "metadata": {
    "collapsed": false,
    "ExecuteTime": {
     "end_time": "2024-03-12T15:26:53.887215Z",
     "start_time": "2024-03-12T15:26:53.861016Z"
    }
   },
   "id": "997f4f8865e222c4"
  },
  {
   "cell_type": "code",
   "execution_count": 8,
   "outputs": [
    {
     "data": {
      "text/plain": "-2.68*y - 2",
      "text/latex": "$\\displaystyle - 2.68 y - 2$"
     },
     "execution_count": 8,
     "metadata": {},
     "output_type": "execute_result"
    }
   ],
   "source": [
    "z.diff(y)"
   ],
   "metadata": {
    "collapsed": false,
    "ExecuteTime": {
     "end_time": "2024-03-12T15:26:59.049338Z",
     "start_time": "2024-03-12T15:26:59.028440Z"
    }
   },
   "id": "ab2606006cfceff7"
  },
  {
   "cell_type": "code",
   "execution_count": 13,
   "outputs": [
    {
     "data": {
      "text/plain": "-753.720000000000",
      "text/latex": "$\\displaystyle -753.72$"
     },
     "execution_count": 13,
     "metadata": {},
     "output_type": "execute_result"
    }
   ],
   "source": [
    "z.subs(((x, 1), (y, 23))).evalf()"
   ],
   "metadata": {
    "collapsed": false,
    "ExecuteTime": {
     "end_time": "2024-03-12T15:28:15.156080Z",
     "start_time": "2024-03-12T15:28:15.136291Z"
    }
   },
   "id": "8f82a346f2b18967"
  },
  {
   "cell_type": "code",
   "execution_count": null,
   "outputs": [],
   "source": [],
   "metadata": {
    "collapsed": false
   },
   "id": "ad92fd41fddfe11b"
  }
 ],
 "metadata": {
  "kernelspec": {
   "display_name": "Python 3",
   "language": "python",
   "name": "python3"
  },
  "language_info": {
   "codemirror_mode": {
    "name": "ipython",
    "version": 2
   },
   "file_extension": ".py",
   "mimetype": "text/x-python",
   "name": "python",
   "nbconvert_exporter": "python",
   "pygments_lexer": "ipython2",
   "version": "2.7.6"
  }
 },
 "nbformat": 4,
 "nbformat_minor": 5
}
