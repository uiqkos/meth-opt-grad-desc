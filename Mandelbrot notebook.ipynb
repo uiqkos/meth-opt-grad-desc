{
 "cells": [
  {
   "cell_type": "code",
   "execution_count": 2,
   "metadata": {},
   "source": [
    "# ---\n",
    "# title: Mandelbrot in Mojo with Python plots\n",
    "# description: Learn how to write high-performance Mojo code and import Python packages.\n",
    "# website:\n",
    "#   open-graph:\n",
    "#     image: /static/images/mojo-social-card.png\n",
    "#   twitter-card:\n",
    "#     image: /static/images/mojo-social-card.png\n",
    "# ---"
   ],
   "outputs": []
  },
  {
   "cell_type": "markdown",
   "metadata": {},
   "source": [
    "[//]: # REMOVE_FOR_WEBSITE\n",
    "*Copyright 2023 Modular, Inc: Licensed under the Apache License v2.0 with LLVM Exceptions.*"
   ]
  },
  {
   "cell_type": "markdown",
   "metadata": {},
   "source": [
    "[//]: # REMOVE_FOR_WEBSITE\n",
    "# Mandelbrot in Mojo with Python plots\n"
   ]
  },
  {
   "cell_type": "markdown",
   "metadata": {},
   "source": [
    "Not only is Mojo great for writing high-performance code, but it also allows us to leverage the huge Python ecosystem of libraries and tools. With seamless Python interoperability, Mojo can use Python for what it's good at, especially GUIs, without sacrificing performance in critical code. Let's take the classic Mandelbrot set algorithm and implement it in Mojo.\n",
    "\n",
    "This tutorial shows two aspects of Mojo. First, it shows that Mojo can be used to develop fast programs for irregular applications. It also shows how we can leverage Python for visualizing the results."
   ]
  },
  {
   "cell_type": "code",
   "execution_count": 3,
   "metadata": {},
   "source": [
    "#|code-fold: true\n",
    "import benchmark\n",
    "from complex import ComplexSIMD, ComplexFloat64\n",
    "from math import iota\n",
    "from python import Python\n",
    "from sys.info import num_physical_cores\n",
    "from algorithm import parallelize, vectorize\n",
    "from tensor import Tensor\n",
    "from utils.index import Index\n",
    "\n",
    "alias float_type = DType.float64\n",
    "alias simd_width = 2 * simdwidthof[float_type]()"
   ],
   "outputs": []
  },
  {
   "cell_type": "markdown",
   "metadata": {},
   "source": [
    "First set some parameters, you can try changing these to see different results:"
   ]
  },
  {
   "cell_type": "code",
   "execution_count": 4,
   "metadata": {},
   "source": [
    "alias width = 960\n",
    "alias height = 960\n",
    "alias MAX_ITERS = 200\n",
    "\n",
    "alias min_x = -2.0\n",
    "alias max_x = 0.6\n",
    "alias min_y = -1.5\n",
    "alias max_y = 1.5"
   ],
   "outputs": []
  },
  {
   "cell_type": "markdown",
   "metadata": {},
   "source": [
    "The core [Mandelbrot](https://en.wikipedia.org/wiki/Mandelbrot_set) algorithm involves computing an iterative complex function for each pixel until it \"escapes\" the complex circle of radius 2, counting the number of iterations to escape:\n",
    "\n",
    "$$z_{i+1} = z_i^2 + c$$"
   ]
  },
  {
   "cell_type": "code",
   "execution_count": 5,
   "metadata": {},
   "source": [
    "# Compute the number of steps to escape.\n",
    "def mandelbrot_kernel(c: ComplexFloat64) -> Int:\n",
    "    z = c\n",
    "    for i in range(MAX_ITERS):\n",
    "        z = z * z + c\n",
    "        if z.squared_norm() > 4:\n",
    "            return i\n",
    "    return MAX_ITERS\n",
    "\n",
    "\n",
    "def compute_mandelbrot() -> Tensor[float_type]:\n",
    "    # create a matrix. Each element of the matrix corresponds to a pixel\n",
    "    t = Tensor[float_type](height, width)\n",
    "\n",
    "    dx = (max_x - min_x) / width\n",
    "    dy = (max_y - min_y) / height\n",
    "\n",
    "    y = min_y\n",
    "    for row in range(height):\n",
    "        x = min_x\n",
    "        for col in range(width):\n",
    "            t[Index(row, col)] = mandelbrot_kernel(ComplexFloat64(x, y))\n",
    "            x += dx\n",
    "        y += dy\n",
    "    return t"
   ],
   "outputs": []
  },
  {
   "cell_type": "markdown",
   "metadata": {},
   "source": [
    "Plotting the number of iterations to escape with some color gives us the canonical Mandelbrot set plot. To render it we can directly leverage Python's `matplotlib` right from Mojo!\n",
    "\n",
    "First install the required libraries:"
   ]
  },
  {
   "cell_type": "code",
   "execution_count": 15,
   "metadata": {},
   "source": [
    "%%python\n",
    "from importlib.util import find_spec\n",
    "import shutil\n",
    "import subprocess\n",
    "\n",
    "fix = \"\"\"\n",
    "-------------------------------------------------------------------------\n",
    "fix following the steps here:\n",
    "    https://github.com/modularml/mojo/issues/1085#issuecomment-1771403719\n",
    "-------------------------------------------------------------------------\n",
    "\"\"\"\n",
    "\n",
    "def install_if_missing(name: str):\n",
    "    if find_spec(name):\n",
    "        return\n",
    "\n",
    "    print(f\"{name} not found, installing...\")\n",
    "    try:\n",
    "        if shutil.which('python3'): python = \"python3\"\n",
    "        elif shutil.which('python'): python = \"python\"\n",
    "        else: raise (\"python not on path\" + fix)\n",
    "        subprocess.check_call([python, \"-m\", \"pip\", \"install\", name])\n",
    "    except:\n",
    "        raise ImportError(f\"{name} not found\" + fix)\n",
    "\n",
    "install_if_missing(\"numpy\")\n",
    "install_if_missing(\"matplotlib\")\n"
   ],
   "outputs": []
  },
  {
   "cell_type": "code",
   "execution_count": 16,
   "metadata": {},
   "source": [
    "def show_plot(tensor: Tensor[float_type]):\n",
    "    alias scale = 10\n",
    "    alias dpi = 64\n",
    "\n",
    "    np = Python.import_module(\"numpy\")\n",
    "    plt = Python.import_module(\"matplotlib.pyplot\")\n",
    "    colors = Python.import_module(\"matplotlib.colors\")\n",
    "\n",
    "    numpy_array = np.zeros((height, width), np.float64)\n",
    "\n",
    "    for row in range(height):\n",
    "        for col in range(width):\n",
    "            numpy_array.itemset((col, row), tensor[col, row])\n",
    "\n",
    "    fig = plt.figure(1, [scale, scale * height // width], dpi)\n",
    "    ax = fig.add_axes([0.0, 0.0, 1.0, 1.0], False, 1)\n",
    "    light = colors.LightSource(315, 10, 0, 1, 1, 0)\n",
    "\n",
    "    image = light.shade(numpy_array, plt.cm.hot, colors.PowerNorm(0.3), \"hsv\", 0, 0, 1.5)\n",
    "    plt.imshow(image)\n",
    "    plt.axis(\"off\")\n",
    "    plt.show()\n",
    "\n",
    "show_plot(compute_mandelbrot())"
   ],
   "outputs": []
  },
  {
   "cell_type": "markdown",
   "metadata": {},
   "source": [
    "## Vectorizing Mandelbrot\n",
    "We showed a naive implementation of the Mandelbrot algorithm, but there are two things we can do to speed it up. We can early-stop the loop iteration when a pixel is known to have escaped, and we can leverage Mojo's access to hardware by vectorizing the loop, computing multiple pixels simultaneously. To do that we will use the `vectorize` higher order generator.\n",
    "\n",
    "We start by defining our main iteration loop in a vectorized fashion"
   ]
  },
  {
   "cell_type": "code",
   "execution_count": 17,
   "metadata": {},
   "source": [
    "fn mandelbrot_kernel_SIMD[\n",
    "    simd_width: Int\n",
    "](c: ComplexSIMD[float_type, simd_width]) -> SIMD[float_type, simd_width]:\n",
    "    \"\"\"A vectorized implementation of the inner mandelbrot computation.\"\"\"\n",
    "    var cx = c.re\n",
    "    var cy = c.im\n",
    "    var x = SIMD[float_type, simd_width](0)\n",
    "    var y = SIMD[float_type, simd_width](0)\n",
    "    var y2 = SIMD[float_type, simd_width](0)\n",
    "    var iters = SIMD[float_type, simd_width](0)\n",
    "\n",
    "    var t: SIMD[DType.bool, simd_width] = True\n",
    "    for i in range(MAX_ITERS):\n",
    "        if not t.reduce_or():\n",
    "            break\n",
    "        y2 = y*y\n",
    "        y = x.fma(y + y, cy)\n",
    "        t = x.fma(x, y2) <= 4\n",
    "        x = x.fma(x, cx - y2)\n",
    "        iters = t.select(iters + 1, iters)\n",
    "    return iters"
   ],
   "outputs": []
  },
  {
   "cell_type": "markdown",
   "metadata": {},
   "source": [
    "The above function is parameterized on the `simd_width` and processes simd_width pixels. It only escapes once all pixels within the vector lane are done. We can use the same iteration loop as above, but this time we vectorize within each row instead. We use the `vectorize` generator to make this a simple function call."
   ]
  },
  {
   "cell_type": "code",
   "execution_count": 18,
   "metadata": {},
   "source": [
    "fn vectorized():\n",
    "    var t = Tensor[float_type](height, width)\n",
    "\n",
    "    @parameter\n",
    "    fn worker(row: Int):\n",
    "        var scale_x = (max_x - min_x) / width\n",
    "        var scale_y = (max_y - min_y) / height\n",
    "\n",
    "        @__copy_capture(scale_x, scale_y)\n",
    "        @parameter\n",
    "        fn compute_vector[simd_width: Int](col: Int):\n",
    "            \"\"\"Each time we oeprate on a `simd_width` vector of pixels.\"\"\"\n",
    "            var cx = min_x + (col + iota[float_type, simd_width]()) * scale_x\n",
    "            var cy = min_y + row * scale_y\n",
    "            var c = ComplexSIMD[float_type, simd_width](cx, cy)\n",
    "            t.data().simd_store[simd_width](\n",
    "                row * width + col, mandelbrot_kernel_SIMD[simd_width](c)\n",
    "            )\n",
    "\n",
    "        # Vectorize the call to compute_vector where call gets a chunk of pixels.\n",
    "        vectorize[compute_vector, simd_width](width)\n",
    "\n",
    "    @parameter\n",
    "    fn bench[simd_width: Int]():\n",
    "        for row in range(height):\n",
    "            worker(row)\n",
    "\n",
    "    var vectorized = benchmark.run[bench[simd_width]](\n",
    "        max_runtime_secs=0.5\n",
    "    ).mean(benchmark.Unit.ms)\n",
    "\n",
    "    print(\"Vectorized\", \":\", vectorized, \"ms\")\n",
    "\n",
    "    try:\n",
    "        _ = show_plot(t)\n",
    "    except e:\n",
    "        print(\"failed to show plot:\", e)\n",
    "\n",
    "vectorized()"
   ],
   "outputs": []
  },
  {
   "cell_type": "markdown",
   "metadata": {},
   "source": [
    "## Parallelizing Mandelbrot\n",
    "While the vectorized implementation above is efficient, we can get better performance by parallelizing on the cols. This again is simple in Mojo using the `parallelize` higher order function. Only the function that performs the invocation needs to change."
   ]
  },
  {
   "cell_type": "code",
   "execution_count": 19,
   "metadata": {},
   "source": [
    "fn parallelized():\n",
    "    var t = Tensor[float_type](height, width)\n",
    "\n",
    "    @parameter\n",
    "    fn worker(row: Int):\n",
    "        var scale_x = (max_x - min_x) / width\n",
    "        var scale_y = (max_y - min_y) / height\n",
    "\n",
    "        @__copy_capture(scale_x, scale_y)\n",
    "        @parameter\n",
    "        fn compute_vector[simd_width: Int](col: Int):\n",
    "            \"\"\"Each time we oeprate on a `simd_width` vector of pixels.\"\"\"\n",
    "            var cx = min_x + (col + iota[float_type, simd_width]()) * scale_x\n",
    "            var cy = min_y + row * scale_y\n",
    "            var c = ComplexSIMD[float_type, simd_width](cx, cy)\n",
    "            t.data().simd_store[simd_width](row * width + col, mandelbrot_kernel_SIMD[simd_width](c))\n",
    "\n",
    "        # Vectorize the call to compute_vector where call gets a chunk of pixels.\n",
    "        vectorize[compute_vector, simd_width](width)\n",
    "\n",
    "\n",
    "    @parameter\n",
    "    fn bench_parallel[simd_width: Int]():\n",
    "        parallelize[worker](height, height)\n",
    "\n",
    "    var parallelized = benchmark.run[bench_parallel[simd_width]](\n",
    "        max_runtime_secs=0.5\n",
    "    ).mean(benchmark.Unit.ms)\n",
    "\n",
    "    print(\"Parallelized:\", parallelized, benchmark.Unit.ms)\n",
    "\n",
    "    try:\n",
    "        _ = show_plot(t)\n",
    "    except e:\n",
    "        print(\"failed to show plot:\", e)\n",
    "\n",
    "parallelized()"
   ],
   "outputs": []
  },
  {
   "cell_type": "markdown",
   "metadata": {},
   "source": [
    "## Benchmarking\n",
    "\n",
    "In this section we increase the size to 4096x4096 and run 1000 iterations for a larger test to stress the CPU "
   ]
  },
  {
   "cell_type": "code",
   "execution_count": 21,
   "metadata": {},
   "source": [
    "fn compare():\n",
    "    var t = Tensor[float_type](height, width)\n",
    "\n",
    "    @parameter\n",
    "    fn worker(row: Int):\n",
    "        var scale_x = (max_x - min_x) / width\n",
    "        var scale_y = (max_y - min_y) / height\n",
    "\n",
    "        @__copy_capture(scale_x, scale_y)\n",
    "        @parameter\n",
    "        fn compute_vector[simd_width: Int](col: Int):\n",
    "            \"\"\"Each time we oeprate on a `simd_width` vector of pixels.\"\"\"\n",
    "            var cx = min_x + (col + iota[float_type, simd_width]()) * scale_x\n",
    "            var cy = min_y + row * scale_y\n",
    "            var c = ComplexSIMD[float_type, simd_width](cx, cy)\n",
    "            t.data().simd_store[simd_width](\n",
    "                row * width + col, mandelbrot_kernel_SIMD[simd_width](c)\n",
    "            )\n",
    "\n",
    "        # Vectorize the call to compute_vector where call gets a chunk of pixels.\n",
    "        vectorize[compute_vector, simd_width](width)\n",
    "\n",
    "    @parameter\n",
    "    fn bench[simd_width: Int]():\n",
    "        for row in range(height):\n",
    "            worker(row)\n",
    "\n",
    "    var vectorized = benchmark.run[bench[simd_width]](\n",
    "        max_runtime_secs=0.5\n",
    "    ).mean(benchmark.Unit.ms)\n",
    "    print(\"Number of threads:\", num_physical_cores())\n",
    "    print(\"Vectorized:\", vectorized, \"ms\")\n",
    "\n",
    "    # Parallelized\n",
    "    @parameter\n",
    "    fn bench_parallel[simd_width: Int]():\n",
    "        parallelize[worker](height, height)\n",
    "\n",
    "    var parallelized = benchmark.run[bench_parallel[simd_width]](\n",
    "        max_runtime_secs=0.5\n",
    "    ).mean(benchmark.Unit.ms)\n",
    "    print(\"Parallelized:\", parallelized, \"ms\")\n",
    "    print(\"Parallel speedup:\", vectorized / parallelized)\n",
    "\n",
    "    _ = t # Make sure tensor isn't destroyed before benchmark is finished"
   ],
   "outputs": []
  },
  {
   "cell_type": "code",
   "execution_count": 22,
   "metadata": {},
   "source": [
    "#| CHECK: speedup\n",
    "compare()"
   ],
   "outputs": []
  }
 ],
 "metadata": {
  "kernelspec": {
   "display_name": "Mojo",
   "language": "mojo",
   "name": "mojo-jupyter-kernel"
  },
  "language_info": {
   "codemirror_mode": {
    "name": "mojo"
   },
   "file_extension": ".mojo",
   "mimetype": "text/x-mojo",
   "name": "mojo"
  },
  "orig_nbformat": 4
 },
 "nbformat": 4,
 "nbformat_minor": 2
}
